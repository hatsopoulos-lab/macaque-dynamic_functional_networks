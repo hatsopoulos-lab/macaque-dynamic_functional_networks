{
 "cells": [
  {
   "cell_type": "markdown",
   "metadata": {},
   "source": [
    "# SETUP"
   ]
  },
  {
   "cell_type": "code",
   "execution_count": null,
   "metadata": {},
   "outputs": [],
   "source": [
    "# run IPYNB that imports all the relevant packages and functions\n",
    "%run ../ms_packages_and_functions.ipynb"
   ]
  },
  {
   "cell_type": "code",
   "execution_count": null,
   "metadata": {},
   "outputs": [],
   "source": [
    "output_dir = pjoin(os.getcwd(), 'processed_data')\n",
    "data_dir  = pjoin(os.getcwd(), 'raw_data')"
   ]
  },
  {
   "cell_type": "code",
   "execution_count": null,
   "metadata": {},
   "outputs": [],
   "source": [
    "run_path = pjoin(output_dir,'RJ_null-metrics_GAS-003')\n",
    "\n",
    "if not os.path.exists(run_path):\n",
    "    os.mkdir(run_path)\n",
    "    print(\"created directory: {}\".format(run_path))\n",
    "else:\n",
    "    print(\"All files will be saved in: {}\".format(run_path))"
   ]
  },
  {
   "cell_type": "code",
   "execution_count": null,
   "metadata": {},
   "outputs": [],
   "source": [
    "fig_dir = pjoin(run_path,'figures')\n",
    "\n",
    "if not os.path.exists(fig_dir):\n",
    "    os.mkdir(fig_dir)\n",
    "    print(\"created directory: {}\".format(fig_dir))\n",
    "else:\n",
    "    print(\"All files will be saved in: {}\".format(fig_dir))"
   ]
  },
  {
   "cell_type": "markdown",
   "metadata": {},
   "source": [
    "# Null paths"
   ]
  },
  {
   "cell_type": "code",
   "execution_count": null,
   "metadata": {},
   "outputs": [],
   "source": [
    "null_folders = [file for file in os.listdir(output_dir) if file.startswith('RJ_nulls-poisson-200ms-MO-0')]\n",
    "null_filepaths = [pjoin(output_dir,folder,file) for folder in null_folders for file in os.listdir(pjoin(output_dir,folder)) if file.startswith('poisson_FNs_')]"
   ]
  },
  {
   "cell_type": "code",
   "execution_count": null,
   "metadata": {},
   "outputs": [],
   "source": [
    "print(f'{len(null_filepaths)} FOUND IN THE FOLLOWING FILEPATHS: \\n{[x[-46:] for x in null_filepaths]}')"
   ]
  },
  {
   "cell_type": "markdown",
   "metadata": {},
   "source": [
    "# GAS"
   ]
  },
  {
   "cell_type": "code",
   "execution_count": null,
   "metadata": {},
   "outputs": [],
   "source": [
    "run_gas = True"
   ]
  },
  {
   "cell_type": "code",
   "execution_count": null,
   "metadata": {},
   "outputs": [],
   "source": [
    "if run_gas: \n",
    "    null_GAS = []\n",
    "    null_num = 0\n",
    "    num_processes = 8\n",
    "    old_i = 0\n",
    "    for i,FN_path in enumerate(null_filepaths):\n",
    "        # start_time = time.time()\n",
    "        try:\n",
    "            null_FNs = loadPickle(FN_path)\n",
    "            #############################\n",
    "\n",
    "            null_alignment_scores = []\n",
    "\n",
    "            min_trial_length = min([len(z[0]) for y in null_FNs[0] for x in y for z in x])\n",
    "\n",
    "            all_trials = [[dir,trial] for dir in range(0,len(null_FNs[0]))\n",
    "                                    for trial in range(0,len(null_FNs[0][dir][0]))]\n",
    "\n",
    "            FN_pairs = [y for y in itertools.combinations(all_trials,2)]\n",
    "\n",
    "            for t in range(0,min_trial_length):\n",
    "                status(\"> SIM# {} getting alignment scores for time: {}s\".format(i,bin2time(t)))\n",
    "                null_alignment_scores.append([])\n",
    "\n",
    "                for pair in FN_pairs:\n",
    "                    score = align_score(null_FNs[0][pair[0][0]][0][pair[0][1]][0][t],null_FNs[0][pair[1][0]][0][pair[1][1]][0][t])\n",
    "                    null_alignment_scores[t].append([score,pair])\n",
    "\n",
    "            null_GAS.append(null_alignment_scores)\n",
    "            \n",
    "            del null_FNs\n",
    "            \n",
    "            ##############################\n",
    "            # end_time = time.time()\n",
    "            # print(f'sim # {i}, elapsed (s) {end_time - start_time}')\n",
    "            null_num += 1\n",
    "\n",
    "        except Exception as e: \n",
    "            print(e)\n",
    "            end_time = time.time()\n",
    "            print(f'sim # {i}, broken!')\n",
    "            # print(f'sim # {i}, broken! elapsed (s) {end_time - start_time}')\n",
    "\n",
    "        if null_num%5==0 :\n",
    "            savePickle(pjoin(run_path,f'null_gas-{old_i}-{i}-.pkl'),null_GAS)\n",
    "            null_GAS = []\n",
    "            old_i = i\n",
    "            "
   ]
  },
  {
   "cell_type": "markdown",
   "metadata": {},
   "source": [
    "# Analyze already generated null GAS values"
   ]
  },
  {
   "cell_type": "code",
   "execution_count": null,
   "metadata": {},
   "outputs": [],
   "source": [
    "null_folders = [file for file in os.listdir(output_dir) if file.startswith('RJ_null-metrics_GAS-') and not file.startswith('RJ_null-metrics_GAS-MO')]\n",
    "null_filepaths = [pjoin(output_dir,folder,file) for folder in null_folders for file in os.listdir(pjoin(output_dir,folder)) if file.startswith('null_gas') and file.endswith('-.pkl')]\n",
    "print(f'{len(null_filepaths)} FOUND IN THE FOLLOWING FILEPATHS: \\n{[x for x in null_filepaths]}')\n"
   ]
  },
  {
   "cell_type": "code",
   "execution_count": null,
   "metadata": {},
   "outputs": [],
   "source": [
    "null_gas = loadPickle(null_filepaths[0])\n",
    "time_gas = [z for z in zip(*null_gas)]\n",
    "del null_gas"
   ]
  },
  {
   "cell_type": "code",
   "execution_count": null,
   "metadata": {},
   "outputs": [],
   "source": [
    "# load data\n",
    "data_FNs = loadPickle('processed_data/rj1031209_CenterOut_FN_10msBin_with500buffer_MIonly.pkl')\n",
    "# data_FNs = loadPickle('processed_data/RJ_CenterOut_FN_10msBin_MOcentered.pkl')\n"
   ]
  },
  {
   "cell_type": "code",
   "execution_count": null,
   "metadata": {},
   "outputs": [],
   "source": [
    "trials = loadPickle('processed_data/rj031209_trials_by_cutoff.pkl')"
   ]
  },
  {
   "cell_type": "code",
   "execution_count": null,
   "metadata": {},
   "outputs": [],
   "source": [
    "# time_gas = [z for z in zip(*null_gas)]\n",
    "# del null_gas\n",
    "cutoffs = [0.5,1,1.5,2,2.5]\n",
    "for cutoff in cutoffs:\n",
    "    all_gas = []\n",
    "    for i,t in enumerate(time_gas):\n",
    "        gas_by_time = []\n",
    "        [gas_by_time.append([]) for x in np.arange(5)]\n",
    "        for gas in zip(*t):\n",
    "            pair = gas[0][1]\n",
    "\n",
    "            if (pair[0][1] in trials[cutoff]['trials'][pair[0][0]]) and (pair[1][1] in trials[cutoff]['trials'][pair[1][0]]):\n",
    "                d_gas = align_score(data_FNs[pair[0][0]][pair[0][1]][i],data_FNs[pair[1][0]][pair[1][1]][i])\n",
    "                n_gas = [x[0] for x in gas]\n",
    "                circd = circdistance(8,pair[0][0],pair[1][0])\n",
    "\n",
    "                gas_by_time[circd].append([pair,d_gas,n_gas])\n",
    "\n",
    "        all_gas.append(gas_by_time)\n",
    "\n",
    "    cmap = sns.color_palette('viridis',5)\n",
    "    \n",
    "    plt.figure()\n",
    "    for c in np.arange(5):\n",
    "        x = [bin2time(x,lastBin=True) for x in np.arange(len(all_gas))]\n",
    "        temp = [np.mean([np.mean(y[2]) for y in x[c]]) for x in all_gas]\n",
    "        plt.plot(x,temp,'--',c=cmap[c])\n",
    "\n",
    "        temp = [np.mean([np.mean(y[1]) for y in x[c]]) for x in all_gas]\n",
    "        plt.plot(x,temp,'-',c=cmap[c])\n",
    "\n",
    "    plt.title(cutoff)\n",
    "\n",
    "    # plt.xlim([0,0.5])\n",
    "    plt.savefig(pjoin(fig_dir,f'gas-all-{cutoff}.png'))       \n",
    "    # del data_FNs,time_gas "
   ]
  },
  {
   "cell_type": "code",
   "execution_count": null,
   "metadata": {},
   "outputs": [],
   "source": [
    "cutoff = 1.5\n",
    "all_gas = []\n",
    "for i,t in enumerate(time_gas):\n",
    "    gas_by_time = []\n",
    "    [gas_by_time.append([]) for x in np.arange(5)]\n",
    "    for gas in zip(*t):\n",
    "        pair = gas[0][1]\n",
    "        d_gas = align_score(data_FNs[pair[0][0]][pair[0][1]][i],data_FNs[pair[1][0]][pair[1][1]][i])\n",
    "        n_gas = [x[0] for x in gas]\n",
    "        circd = circdistance(8,pair[0][0],pair[1][0])\n",
    "\n",
    "        gas_by_time[circd].append([pair,d_gas,n_gas])\n",
    "\n",
    "    all_gas.append(gas_by_time)\n",
    "        \n",
    "del data_FNs,time_gas "
   ]
  },
  {
   "cell_type": "code",
   "execution_count": null,
   "metadata": {},
   "outputs": [],
   "source": [
    "savePickle(pjoin(run_path,'temporal_all_gas.pkl'),all_gas)"
   ]
  },
  {
   "cell_type": "code",
   "execution_count": null,
   "metadata": {},
   "outputs": [],
   "source": [
    "# # time_gas = [z for z in zip(*null_gas)]\n",
    "# # del null_gas\n",
    "\n",
    "# all_gas = []\n",
    "# for i,t in enumerate(time_gas):\n",
    "#     gas_by_time = []\n",
    "#     [gas_by_time.append([]) for x in np.arange(5)]\n",
    "#     for gas in zip(*t):\n",
    "#         pair = gas[0][1]\n",
    "#         d_gas = align_score(data_FNs[pair[0][0]][pair[0][1]][i],data_FNs[pair[1][0]][pair[1][1]][i])\n",
    "#         n_gas = [x[0] for x in gas]\n",
    "#         circd = circdistance(8,pair[0][0],pair[1][0])\n",
    "\n",
    "#         gas_by_time[circd].append([pair,d_gas,n_gas])\n",
    "\n",
    "#     all_gas.append(gas_by_time)\n",
    "        \n",
    "# del data_FNs,time_gas "
   ]
  },
  {
   "cell_type": "code",
   "execution_count": null,
   "metadata": {},
   "outputs": [],
   "source": [
    "# cmap = sns.color_palette('viridis',5)\n",
    "# for c in np.arange(5):\n",
    "#     x = [bin2time(x,lastBin=True) for x in np.arange(len(all_gas))]\n",
    "#     temp = [np.mean([np.mean(y[2]) for y in x[c]]) for x in all_gas]\n",
    "#     plt.plot(x,temp,'--',c=cmap[c])\n",
    "\n",
    "#     temp = [np.mean([np.mean(y[1]) for y in x[c]]) for x in all_gas]\n",
    "#     plt.plot(x,temp,'-',c=cmap[c])\n",
    "\n",
    "# # plt.xlim([0,0.5])\n",
    "# plt.savefig(pjoin(fig_dir,'gas-all.png'))"
   ]
  },
  {
   "cell_type": "markdown",
   "metadata": {},
   "source": [
    "# GAS at Movement Onset"
   ]
  },
  {
   "cell_type": "code",
   "execution_count": null,
   "metadata": {},
   "outputs": [],
   "source": [
    "trials = loadPickle('processed_data/rj031209_trials_by_cutoff.pkl')"
   ]
  },
  {
   "cell_type": "code",
   "execution_count": null,
   "metadata": {},
   "outputs": [],
   "source": [
    "data_FNs = loadPickle('processed_data/RJ_CenterOut_FN_10msBin_MOcentered.pkl')\n"
   ]
  },
  {
   "cell_type": "code",
   "execution_count": null,
   "metadata": {},
   "outputs": [],
   "source": [
    "run_gas_MO = True\n",
    "if run_gas_MO: \n",
    "    null_GAS = []\n",
    "    null_num = 0\n",
    "    num_processes = 8\n",
    "    old_i = 0\n",
    "\n",
    "    min_trial_length = time2bin(1,lastBin=True,buffer=0) # length of window to plot, bin buffer looks at the time before and after\n",
    "    binBuffer = min_trial_length/2\n",
    "    cutoff = 2.5 # we use this since it will get most of the trials and then we can look at less trials later\n",
    "\n",
    "    for i,FN_path in enumerate(null_filepaths):\n",
    "        # start_time = time.time()\n",
    "        try:\n",
    "            null_FNs = loadPickle(FN_path)\n",
    "            #############################\n",
    "\n",
    "            null_alignment_scores = []\n",
    "\n",
    "            # min_trial_length = min([len(z[0]) for y in null_FNs[0] for x in y for z in x])\n",
    "\n",
    "            all_trials = [[dir,trial] for dir in range(0,len(null_FNs[0]))\n",
    "                                    for trial in range(0,len(null_FNs[0][dir][0]))]\n",
    "\n",
    "            FN_pairs = [y for y in itertools.combinations(all_trials,2)]\n",
    "\n",
    "            for t in range(0,min_trial_length):\n",
    "                status(\"> SIM# {} getting alignment scores for time: {}s\".format(i,bin2time(t)))\n",
    "                null_alignment_scores.append([])\n",
    "                \n",
    "                bB = t - (binBuffer)\n",
    "\n",
    "                for pair in FN_pairs:\n",
    "\n",
    "                    MOTime_0 = int(time2bin(trials[cutoff]['mv_times'][pair[0][0]][pair[0][1]][0],lastBin=True,buffer=0)+bB)\n",
    "                    MOTime_1 = int(time2bin(trials[cutoff]['mv_times'][pair[1][0]][pair[1][1]][0],lastBin=True,buffer=0)+bB)\n",
    "\n",
    "                    score = align_score(null_FNs[0][pair[0][0]][0][pair[0][1]][0][MOTime_0],null_FNs[0][pair[1][0]][0][pair[1][1]][0][MOTime_1])\n",
    "                    \n",
    "                    null_alignment_scores[t].append([score,pair])\n",
    "\n",
    "            null_GAS.append(null_alignment_scores)\n",
    "            \n",
    "            del null_FNs\n",
    "            \n",
    "            ##############################\n",
    "            # end_time = time.time()\n",
    "            # print(f'sim # {i}, elapsed (s) {end_time - start_time}')\n",
    "            null_num += 1\n",
    "\n",
    "        except Exception as e: \n",
    "            print(e)\n",
    "            # end_time = time.time()\n",
    "            print(f'sim # {i}, broken!')\n",
    "            # print(f'sim # {i}, broken! elapsed (s) {end_time - start_time}')\n",
    "\n",
    "        if null_num%5==0 :\n",
    "            savePickle(pjoin(run_path,f'null_gas-MO_{old_i}-{i}-.pkl'),null_GAS)\n",
    "            null_GAS = []\n",
    "            old_i = i\n",
    "            "
   ]
  }
 ],
 "metadata": {
  "interpreter": {
   "hash": "2a98fdb5df325e6c89fa53031196f20ef23f8725fbf0bb59d954c6e8610a0bce"
  },
  "kernelspec": {
   "display_name": "Python 3",
   "language": "python",
   "name": "python3"
  },
  "language_info": {
   "codemirror_mode": {
    "name": "ipython",
    "version": 3
   },
   "file_extension": ".py",
   "mimetype": "text/x-python",
   "name": "python",
   "nbconvert_exporter": "python",
   "pygments_lexer": "ipython3",
   "version": "3.8.5"
  }
 },
 "nbformat": 4,
 "nbformat_minor": 2
}
