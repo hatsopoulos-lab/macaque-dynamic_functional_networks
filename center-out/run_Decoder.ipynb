{
 "cells": [
  {
   "cell_type": "markdown",
   "metadata": {},
   "source": [
    "# SETUP"
   ]
  },
  {
   "cell_type": "code",
   "execution_count": null,
   "metadata": {},
   "outputs": [],
   "source": [
    "# run IPYNB that imports all the relevant packages and functions\n",
    "%run ../ms_packages_and_functions.ipynb"
   ]
  },
  {
   "cell_type": "code",
   "execution_count": null,
   "metadata": {},
   "outputs": [],
   "source": [
    "output_dir = pjoin(os.getcwd(), 'processed_data')\n",
    "data_dir  = pjoin(os.getcwd(), 'raw_data')"
   ]
  },
  {
   "cell_type": "code",
   "execution_count": null,
   "metadata": {},
   "outputs": [],
   "source": [
    "run_path = pjoin(output_dir,'RJ_Decoder_000') # name of folder saved in \"processed_data\"\n",
    "\n",
    "if not os.path.exists(run_path):\n",
    "    os.mkdir(run_path)\n",
    "    print(\"created directory: {}\".format(run_path))\n",
    "else:\n",
    "    print(\"All files will be saved in: {}\".format(run_path))"
   ]
  },
  {
   "cell_type": "code",
   "execution_count": null,
   "metadata": {},
   "outputs": [],
   "source": [
    "fig_dir = pjoin(run_path,'figures')\n",
    "\n",
    "if not os.path.exists(fig_dir):\n",
    "    os.mkdir(fig_dir)\n",
    "    print(\"created directory: {}\".format(fig_dir))\n",
    "else:\n",
    "    print(\"All files will be saved in: {}\".format(fig_dir))"
   ]
  },
  {
   "cell_type": "code",
   "execution_count": null,
   "metadata": {},
   "outputs": [],
   "source": [
    "# Paths for Generated FNs\n",
    "FNs_path_fullTrial = 'processed_data/RJ_FN+Embedding_fullTrial-001/RJ_CenterOut_FN_10ms_fullTrial_flattened.pkl'\n",
    "FNs_path_temporal = 'processed_data/rj1031209_CenterOut_FN-Flattened_10msBin_with500buffer_MIonly.pkl'\n",
    "FNs_path_temporalNull = 'processed_data/RJ_nulls-poisson-200ms-003/poisson_FNs_000.pkl'"
   ]
  },
  {
   "cell_type": "markdown",
   "metadata": {},
   "source": [
    "# Multilayer Perceptron"
   ]
  },
  {
   "cell_type": "markdown",
   "metadata": {},
   "source": [
    "## Full Trial Decoder"
   ]
  },
  {
   "cell_type": "markdown",
   "metadata": {},
   "source": [
    "### Get features and targets"
   ]
  },
  {
   "cell_type": "code",
   "execution_count": null,
   "metadata": {},
   "outputs": [],
   "source": [
    "FNs_flattened = loadPickle(FNs_path_fullTrial)"
   ]
  },
  {
   "cell_type": "code",
   "execution_count": null,
   "metadata": {},
   "outputs": [],
   "source": [
    "# trials sorted by time it takes for subject to reach target\n",
    "trials = loadPickle('processed_data/rj031209_trials_by_cutoff.pkl')"
   ]
  },
  {
   "cell_type": "markdown",
   "metadata": {},
   "source": [
    "### Run Classifier"
   ]
  },
  {
   "cell_type": "code",
   "execution_count": null,
   "metadata": {},
   "outputs": [],
   "source": [
    "\n",
    "performance_scores = []\n",
    "runs = 50\n",
    "\n",
    "\n",
    "features = FNs_flattened['data']\n",
    "targets  = [x[0] for x in FNs_flattened['FN_info']]\n",
    "\n",
    "for r in range(runs):\n",
    "\n",
    "    status(\"Multilayer Perceptron Run # {}\".format(r))\n",
    "\n",
    "    features_train, features_test, targets_train, targets_test = train_test_split(features,\n",
    "                                                                                targets)\n",
    "\n",
    "    clf = MLPClassifier()\n",
    "    clf.fit(features_train, targets_train)\n",
    "\n",
    "    score = clf.score(features_test,targets_test)\n",
    "\n",
    "    performance_scores.append(score)\n",
    "\n",
    "savePickle(pjoin(run_path,f'performance_scores.pkl'),performance_scores)"
   ]
  },
  {
   "cell_type": "code",
   "execution_count": null,
   "metadata": {},
   "outputs": [],
   "source": [
    "# plt.plot(performance_scores)\n",
    "# plt.plot([0,len(performance_scores)],[np.mean(performance_scores),np.mean(performance_scores)])"
   ]
  },
  {
   "cell_type": "code",
   "execution_count": null,
   "metadata": {},
   "outputs": [],
   "source": [
    "del FNs_flattened, features, targets, features_train, features_test, targets_train, targets_test, clf"
   ]
  },
  {
   "cell_type": "markdown",
   "metadata": {},
   "source": [
    "## Temporal FN Decoder"
   ]
  },
  {
   "cell_type": "code",
   "execution_count": null,
   "metadata": {},
   "outputs": [],
   "source": [
    "FNs_flattened = loadPickle(FNs_path_temporal)"
   ]
  },
  {
   "cell_type": "code",
   "execution_count": null,
   "metadata": {},
   "outputs": [],
   "source": [
    "# get min time ?(change later to actual min time, but for now this will do)\n",
    "min_len = time2bin(1.5,lastBin=True)\n",
    "min_len"
   ]
  },
  {
   "cell_type": "code",
   "execution_count": null,
   "metadata": {},
   "outputs": [],
   "source": [
    "runs = 5\n",
    "temporal_performance_score = []\n",
    "\n",
    "for r in range(runs):\n",
    "\n",
    "    time_performance_score = []\n",
    "\n",
    "    for ti in range(min_len):\n",
    "        status(\"Temporal Multilayer Perceptron, Time {}, Run # {}\".format(ti, r))\n",
    "\n",
    "        # get features:\n",
    "        features_idx = [i for i,x in enumerate(np.array(FNs_flattened['FN_info'])) if (x[2]==ti)]\n",
    "        features = np.array(FNs_flattened['data'])[features_idx]\n",
    "\n",
    "        # get targets:\n",
    "        targets = [x[0] for x in np.array(FNs_flattened['FN_info'])[features_idx]]\n",
    "\n",
    "        features_train, features_test, targets_train, targets_test = train_test_split(features,\n",
    "                                                                                targets)\n",
    "\n",
    "        clf = MLPClassifier()\n",
    "        clf.fit(features_train, targets_train)\n",
    "\n",
    "        score = clf.score(features_test,targets_test)\n",
    "\n",
    "        time_performance_score.append(score)\n",
    "\n",
    "\n",
    "    temporal_performance_score.append(time_performance_score)\n",
    "\n",
    "save_dir = pjoin(run_path,'FN_performance_score.pkl')\n",
    "savePickle(save_dir,temporal_performance_score)\n",
    "        \n"
   ]
  },
  {
   "cell_type": "markdown",
   "metadata": {},
   "source": [
    "# Rate Matched FN Decoder"
   ]
  },
  {
   "cell_type": "code",
   "execution_count": null,
   "metadata": {},
   "outputs": [],
   "source": [
    "null_FNs = loadPickle(FNs_path_temporalNull)\n",
    "\n",
    "FNs_flattened = {'data':[flattenNetwork(W) for x in null_FNs[0] for y in x[0] for W in y[0]],\n",
    "                'FN_info': [[dir,trial,time] for dir in range(len(null_FNs[0])) \n",
    "                                                for trial in range(len(null_FNs[0][dir][0])) \n",
    "                                                for time in range(len(null_FNs[0][dir][0][trial][0]))]}"
   ]
  },
  {
   "cell_type": "code",
   "execution_count": null,
   "metadata": {},
   "outputs": [],
   "source": [
    "min_len = time2bin(1.5,lastBin=True)"
   ]
  },
  {
   "cell_type": "code",
   "execution_count": null,
   "metadata": {},
   "outputs": [],
   "source": [
    "runs = 5\n",
    "null_performance_score = []\n",
    "\n",
    "for r in range(runs):\n",
    "\n",
    "    null_time_performance_score = []\n",
    "\n",
    "    for ti in range(min_len):\n",
    "        status(\"Temporal Multilayer Perceptron, Time {}, Run # {}\".format(ti, r))\n",
    "\n",
    "        # get features:\n",
    "        features_idx = [i for i,x in enumerate(np.array(FNs_flattened['FN_info'])) if (x[2]==ti)]\n",
    "        features = np.array(FNs_flattened['data'])[features_idx]\n",
    "\n",
    "        # get targets:\n",
    "        targets = [x[0] for x in np.array(FNs_flattened['FN_info'])[features_idx]]\n",
    "\n",
    "        features_train, features_test, targets_train, targets_test = train_test_split(features,\n",
    "                                                                                targets)\n",
    "\n",
    "        clf = MLPClassifier()\n",
    "        clf.fit(features_train, targets_train)\n",
    "\n",
    "        score = clf.score(features_test,targets_test)\n",
    "\n",
    "        null_time_performance_score.append(score)\n",
    "\n",
    "\n",
    "    null_performance_score.append(null_time_performance_score)\n",
    "        \n",
    "save_dir = pjoin(run_path,'null_performance_score.pkl')\n",
    "savePickle(save_dir,null_performance_score)"
   ]
  },
  {
   "cell_type": "code",
   "execution_count": null,
   "metadata": {},
   "outputs": [],
   "source": [
    "sns.set_theme()\n",
    "plt.figure(figsize=(7,5))\n",
    "x = [bin2time(x,lastBin=True,buffer=0.5) for x in np.arange(min_len)]\n",
    "\n",
    "\n",
    "plt.plot(x,np.mean(temporal_performance_score,axis=0),label='FN',linewidth=2)\n",
    "\n",
    "plt.plot(x,np.mean(null_performance_score,axis=0),label='FN null',linewidth=2)\n",
    "plt.plot(x,np.ones(len(x))*np.mean(performance_scores),label='static')\n",
    "plt.plot(x,np.ones(len(x))*(1/8),'k--',label='chance')\n",
    "plt.legend(frameon=False)\n",
    "plt.savefig(pjoin(fig_dir,f'FN-FNnull-{runs}runs.png'))"
   ]
  },
  {
   "cell_type": "markdown",
   "metadata": {},
   "source": [
    "# FR Decoder"
   ]
  },
  {
   "cell_type": "code",
   "execution_count": null,
   "metadata": {},
   "outputs": [],
   "source": [
    "FR_flattened = loadPickle('processed_data/RS_FR_run001/RS_FR_flattened.pkl')"
   ]
  },
  {
   "cell_type": "code",
   "execution_count": null,
   "metadata": {},
   "outputs": [],
   "source": [
    "\n",
    "min_len = time2bin(1.5,lastBin=True)\n",
    "times = np.arange(0,min_len,1)\n",
    "\n",
    "runs = 50\n",
    "FR_performance_score = []\n",
    "\n",
    "for r in range(runs):\n",
    "\n",
    "    FR_time_performance_score = []\n",
    "\n",
    "    for ti in times:\n",
    "        status(\"Temporal Multilayer Perceptron, Time {}, Run # {}\".format(ti, r))\n",
    "\n",
    "        # get features:\n",
    "        features_idx = [i for i,x in enumerate(np.array(FNs_flattened['FN_info'])) if (x[2]==ti)]\n",
    "        features = np.array(FR_flattened['data'])[features_idx]\n",
    "\n",
    "        # # get targets:\n",
    "        targets = [x[0] for x in np.array(FR_flattened['FR_info'])[features_idx]]\n",
    "\n",
    "        features_train, features_test, targets_train, targets_test = train_test_split(features,\n",
    "                                                                                targets)\n",
    "\n",
    "        clf = MLPClassifier()\n",
    "        clf.fit(features_train, targets_train)\n",
    "\n",
    "        score = clf.score(features_test,targets_test)\n",
    "\n",
    "        FR_time_performance_score.append(score)\n",
    "\n",
    "\n",
    "    FR_performance_score.append(FR_time_performance_score)\n",
    "\n",
    "save_dir = pjoin(run_path,'FR_performance_score.pkl')\n",
    "savePickle(save_dir,FR_performance_score)"
   ]
  },
  {
   "cell_type": "markdown",
   "metadata": {},
   "source": [
    "# FRFN Decoder"
   ]
  },
  {
   "cell_type": "code",
   "execution_count": null,
   "metadata": {},
   "outputs": [],
   "source": [
    "\n",
    "min_len = time2bin(1.5,lastBin=True)\n",
    "times = np.arange(0,min_len,1)\n",
    "\n",
    "runs = 50\n",
    "FRFN_performance_score = []\n",
    "\n",
    "for r in range(runs):\n",
    "\n",
    "    FRFN_time_performance_score = []\n",
    "\n",
    "    for ti in times:\n",
    "        status(\"Temporal Multilayer Perceptron, Time {}, Run # {}\".format(ti, r))\n",
    "\n",
    "        # get features:\n",
    "        features_idx = [i for i,x in enumerate(np.array(FNs_flattened['FN_info'])) if (x[2]==ti)]\n",
    "        features = [ np.hstack([x,y]) for x,y in zip(np.array(FR_flattened['data'])[features_idx],np.array(FNs_flattened['data'])[features_idx])]\n",
    "\n",
    "        # # get targets:\n",
    "        targets = [x[0] for x in np.array(FR_flattened['FR_info'])[features_idx]]\n",
    "\n",
    "        features_train, features_test, targets_train, targets_test = train_test_split(features,\n",
    "                                                                                targets)\n",
    "\n",
    "        clf = MLPClassifier()\n",
    "        clf.fit(features_train, targets_train)\n",
    "\n",
    "        score = clf.score(features_test,targets_test)\n",
    "\n",
    "        FRFN_time_performance_score.append(score)\n",
    "\n",
    "\n",
    "    FRFN_performance_score.append(FRFN_time_performance_score)\n",
    "save_dir = pjoin(run_path,'FRFN_performance_score.pkl')\n",
    "savePickle(save_dir,FRFN_performance_score)"
   ]
  }
 ],
 "metadata": {
  "interpreter": {
   "hash": "2a98fdb5df325e6c89fa53031196f20ef23f8725fbf0bb59d954c6e8610a0bce"
  },
  "kernelspec": {
   "display_name": "Python 3.8.5 64-bit ('reach-analysis': conda)",
   "name": "python3"
  },
  "language_info": {
   "codemirror_mode": {
    "name": "ipython",
    "version": 3
   },
   "file_extension": ".py",
   "mimetype": "text/x-python",
   "name": "python",
   "nbconvert_exporter": "python",
   "pygments_lexer": "ipython3",
   "version": "3.8.5"
  },
  "orig_nbformat": 4
 },
 "nbformat": 4,
 "nbformat_minor": 2
}
