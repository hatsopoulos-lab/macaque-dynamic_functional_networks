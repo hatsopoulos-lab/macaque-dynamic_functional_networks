{
 "cells": [
  {
   "cell_type": "code",
   "execution_count": 1,
   "metadata": {},
   "outputs": [
    {
     "name": "stderr",
     "output_type": "stream",
     "text": [
      "/home/mjms/anaconda3/envs/reach-analysis/lib/python3.8/site-packages/bids/layout/validation.py:46: UserWarning: The ability to pass arguments to BIDSLayout that control indexing is likely to be removed in future; possibly as early as PyBIDS 0.14. This includes the `config_filename`, `ignore`, `force_index`, and `index_metadata` arguments. The recommended usage pattern is to initialize a new BIDSLayoutIndexer with these arguments, and pass it to the BIDSLayout via the `indexer` argument.\n",
      "  warnings.warn(\"The ability to pass arguments to BIDSLayout that control \"\n"
     ]
    }
   ],
   "source": [
    "# run IPYNB that imports all the relevant packages and functions\n",
    "%run ms_packages_and_functions.ipynb\n",
    "import warnings\n",
    "warnings.filterwarnings('ignore')"
   ]
  },
  {
   "cell_type": "code",
   "execution_count": null,
   "metadata": {},
   "outputs": [],
   "source": [
    "output_dir = pjoin(os.getcwd(), 'processed_data')\n",
    "data_dir  = pjoin(os.getcwd(), 'raw_data')"
   ]
  },
  {
   "cell_type": "code",
   "execution_count": 2,
   "metadata": {},
   "outputs": [],
   "source": [
    "rockstar_data = pjoin(data_dir,'rockstar_CenterOut_data_10msBin_with500buffer.pkl')\n",
    "with open(rockstar_data, 'rb') as f:\n",
    "    data = pickle.load(f)"
   ]
  },
  {
   "cell_type": "markdown",
   "metadata": {},
   "source": [
    "# 0. Data Structure\n",
    "\n",
    "HOW TO USE 'data'\n",
    "\n",
    "#data is already organized by direction:\n",
    "```python\n",
    "data[direction].keys()\n",
    "## ['DirectionIndex', 'DirectionDegrees', 'numTrials', 'instructionTimes', \n",
    "## 'goTimes', 'startMv', 'endMv', 'numCh', 'binwin', 'StartTimes', 'trialData'])\n",
    "```\n",
    "\n",
    "within the 'direction' dictionary, all trial data is stored in 'trialData'\n",
    "```python\n",
    "data[direction]['trialData'][trial].keys()\n",
    "## ['trialNum', 'trialStart', 'trialInstruction', 'trialGo', 'trialEnd', \n",
    "## 'trialXPos', 'trialXTime', 'trialYPos', 'trialYTime', 'unitData', \n",
    "## 'trialNumUnits', 'trialSpiketimes', 'trialBinnedSpikes']\n",
    "```\n",
    "and within each trial we have 'unitData' which has metadata about the units\n",
    "```python\n",
    "data[0]['trialData'][0]['unitData'][0].keys()\n",
    "## ['chanNum', 'unitInChan', 'unitNum', 'spiketimes']\n",
    "```"
   ]
  },
  {
   "cell_type": "code",
   "execution_count": 5,
   "metadata": {},
   "outputs": [
    {
     "data": {
      "text/plain": [
       "dict_keys(['chanNum', 'unitInChan', 'unitNum', 'spiketimes'])"
      ]
     },
     "execution_count": 5,
     "metadata": {},
     "output_type": "execute_result"
    }
   ],
   "source": [
    "data[0]['trialData'][0]['unitData'][0].keys()"
   ]
  },
  {
   "cell_type": "code",
   "execution_count": 12,
   "metadata": {},
   "outputs": [
    {
     "data": {
      "text/plain": [
       "141"
      ]
     },
     "execution_count": 12,
     "metadata": {},
     "output_type": "execute_result"
    }
   ],
   "source": [
    "data[0]['trialData'][0]['trialNumUnits']"
   ]
  },
  {
   "cell_type": "markdown",
   "metadata": {},
   "source": [
    "# 1. Plot Data Raster by Trial"
   ]
  },
  {
   "cell_type": "code",
   "execution_count": 6,
   "metadata": {
    "scrolled": false
   },
   "outputs": [
    {
     "data": {
      "text/plain": [
       "(-0.5, 300.5, 141.5, -0.5)"
      ]
     },
     "execution_count": 6,
     "metadata": {},
     "output_type": "execute_result"
    },
    {
     "data": {
      "image/png": "[encoded data removed]",
      "text/plain": [
       "<Figure size 1080x2160 with 1 Axes>"
      ]
     },
     "metadata": {
      "needs_background": "light"
     },
     "output_type": "display_data"
    }
   ],
   "source": [
    "data_rasters = []\n",
    "mov_window = 0.2 # 200 ms\n",
    "buffer = 0.5\n",
    "\n",
    "direction = 0\n",
    "trial = 0\n",
    "\n",
    "plt.figure(figsize=(15,30))\n",
    "plt.imshow(data[direction]['trialData'][trial]['trialBinnedSpikes'],cmap='gray' )\n",
    "plt.axis('off')"
   ]
  },
  {
   "cell_type": "markdown",
   "metadata": {},
   "source": [
    "# 2. Get Firing Rates"
   ]
  },
  {
   "cell_type": "code",
   "execution_count": 7,
   "metadata": {},
   "outputs": [],
   "source": [
    "data_rasters = []\n",
    "mov_window = 0.2 # 200 ms\n",
    "buffer = 0.5\n",
    "\n",
    "for direction in range(0,len(data)):\n",
    "    binwin = data[direction]['binwin']\n",
    "    windowBin = int(mov_window/binwin)\n",
    "\n",
    "    direction_rasters = []\n",
    "\n",
    "    for trial in range(0,len(data[direction]['trialData'])):\n",
    "        trial_rasters  = []\n",
    "        trialData = data[direction]['trialData'][trial]['trialBinnedSpikes'] \n",
    "\n",
    "        for j in range(0,trialData[0].shape[0]-windowBin):\n",
    "            temp = [x[j:j+windowBin] for x in trialData]\n",
    "\n",
    "            trial_rasters.append(temp)\n",
    "\n",
    "        direction_rasters.append(trial_rasters)\n",
    "\n",
    "    data_rasters.append(direction_rasters)"
   ]
  },
  {
   "cell_type": "code",
   "execution_count": 68,
   "metadata": {},
   "outputs": [
    {
     "data": {
      "text/plain": [
       "80"
      ]
     },
     "execution_count": 68,
     "metadata": {},
     "output_type": "execute_result"
    }
   ],
   "source": [
    "len(raster_plot[0])"
   ]
  },
  {
   "cell_type": "code",
   "execution_count": 70,
   "metadata": {},
   "outputs": [
    {
     "data": {
      "image/png": "[encoded data removed]",
      "text/plain": [
       "<Figure size 360x360 with 1 Axes>"
      ]
     },
     "metadata": {},
     "output_type": "display_data"
    }
   ],
   "source": [
    "plt.figure(figsize=(5,5))\n",
    "raster_plot = np.hstack((np.array(data_rasters[0][0][220][110:120]),np.array(data_rasters[0][0][240][110:120]),np.array(data_rasters[0][0][260][110:120]),np.array(data_rasters[0][0][280][110:120])))\n",
    "scale = 1\n",
    "for i,raster in enumerate(raster_plot):\n",
    "    for j,val in enumerate(raster):\n",
    "        if val:\n",
    "            plt.plot([j,j],[i*scale,i*scale+scale],c=sns.color_palette('husl',1)[0])\n",
    "\n",
    "ax1 = plt.gca()\n",
    "# bg_color = '#F5F5F5'\n",
    "# ax1.set_facecolor(bg_color)\n",
    "ax1.spines['right'].set_visible(False)\n",
    "ax1.spines['top'].set_visible(False)\n",
    "ax1.spines['bottom'].set_visible(False)\n",
    "ax1.spines['left'].set_visible(False)           \n",
    "ax1.set_xticks([])\n",
    "ax1.set_yticks([])\n",
    "\n",
    "plt.savefig('example_raster.png',transparent=True)"
   ]
  },
  {
   "cell_type": "code",
   "execution_count": 8,
   "metadata": {
    "scrolled": true
   },
   "outputs": [],
   "source": [
    "rasters = [data_rasters]\n",
    "\n",
    "FR_all = []\n",
    "for i, raster in enumerate(rasters):\n",
    "    FR_all.append([])\n",
    "    \n",
    "    for direction in range(0,len(raster)):\n",
    "        direction_FR = []\n",
    "        for trial in range(0,len(raster[direction])):\n",
    "            trial_FR = []\n",
    "            for time in range(0,len(raster[direction][trial])):\n",
    "                trial_FR.append(np.sum(raster[direction][trial][time],axis=1))\n",
    "            direction_FR.append(trial_FR)\n",
    "        FR_all[i].append(direction_FR)"
   ]
  },
  {
   "cell_type": "code",
   "execution_count": 9,
   "metadata": {},
   "outputs": [
    {
     "data": {
      "image/png": "[encoded data removed]",
      "text/plain": [
       "<Figure size 1080x720 with 1 Axes>"
      ]
     },
     "metadata": {
      "needs_background": "light"
     },
     "output_type": "display_data"
    }
   ],
   "source": [
    "plt.figure(figsize=(15,10),frameon=False)\n",
    "\n",
    "direction = 0\n",
    "file = 0 \n",
    "\n",
    "labels = ['data','poisson','shuffled']\n",
    "c = ['xkcd:tomato','xkcd:teal','xkcd:turquoise']\n",
    "plot_until = np.min([len(y) for z in FR_all for y in z[direction]])\n",
    "time = (np.arange(0,plot_until)*0.01)-(0.5-0.2)\n",
    "\n",
    "ave_FR = []\n",
    "for trial in range(0,len(FR_all[file][direction])):\n",
    "     ave_FR.append([np.mean(x) for x in FR_all[file][direction][trial]][:plot_until])\n",
    "\n",
    "ave_FR_dir = np.mean(np.array(ave_FR),axis=0)\n",
    "min_FR = np.min(np.array(ave_FR),axis=0)\n",
    "max_FR = np.max(np.array(ave_FR),axis=0)\n",
    "\n",
    "plt.fill_between(time, min_FR,max_FR,alpha=0.075,color=c[file])\n",
    "plt.plot(time,ave_FR_dir,label=labels[file],color=c[file])\n",
    "\n",
    "plt.plot([0,0],[0,1.25],'k--',alpha=0.5)\n",
    "plt.plot([1,1],[0,1.25],'k--',alpha=0.5)\n",
    "plt.legend()\n",
    "ax = plt.gca()\n",
    "ax.spines['top'].set_visible(False)\n",
    "ax.spines['right'].set_visible(False)\n",
    "ax.spines['bottom'].set_visible(False)\n",
    "ax.spines['left'].set_visible(False)\n",
    "plt.show()"
   ]
  },
  {
   "cell_type": "markdown",
   "metadata": {},
   "source": [
    "# 3. Kinematics"
   ]
  },
  {
   "cell_type": "code",
   "execution_count": null,
   "metadata": {},
   "outputs": [],
   "source": [
    "data_pos = []\n",
    "mov_window = 0.2 # 200 ms\n",
    "cmap = sns.color_palette('husl',8)\n",
    "plt.figure(figsize=(10,10))\n",
    "for direction in range(0,len(data)):\n",
    "    for trial in range(0,len(data[direction]['trialData'])):\n",
    "        xPos = data[direction]['trialData'][trial]['trialXPos']\n",
    "        xTime = data[direction]['trialData'][trial]['trialXTime']\n",
    "\n",
    "        yPos = data[direction]['trialData'][trial]['trialYPos']\n",
    "        yTime = data[direction]['trialData'][trial]['trialYTime']\n",
    "        \n",
    "        plt.plot(xPos,yPos,color=cmap[direction])\n",
    "plt.axis('off')\n",
    "plt.show()"
   ]
  },
  {
   "cell_type": "markdown",
   "metadata": {},
   "source": [
    "### Interpolated kinematics to match binning of spikes"
   ]
  },
  {
   "cell_type": "code",
   "execution_count": null,
   "metadata": {},
   "outputs": [],
   "source": [
    "data_pos = []\n",
    "mov_window = 0.2 # 200 ms\n",
    "cmap = sns.color_palette('husl',8)\n",
    "plt.figure(figsize=(10,10))\n",
    "for direction in range(0,len(data)):\n",
    "    for trial in range(0,len(data[direction]['trialData'])):\n",
    "        binwin = data[direction]['binwin']\n",
    "        xPos = data[direction]['trialData'][trial]['trialXPos']\n",
    "        xTime = data[direction]['trialData'][trial]['trialXTime']\n",
    "\n",
    "        yPos = data[direction]['trialData'][trial]['trialYPos']\n",
    "        yTime = data[direction]['trialData'][trial]['trialYTime']\n",
    "        \n",
    "        xnew,ynew = binnedPos(xPos,xTime,yPos,yTime,binwin)\n",
    "        plt.plot(xnew,ynew,color=cmap[direction])\n",
    "plt.axis('off')\n",
    "plt.show()"
   ]
  },
  {
   "cell_type": "markdown",
   "metadata": {},
   "source": [
    "# 4. Construct FNs"
   ]
  },
  {
   "cell_type": "code",
   "execution_count": null,
   "metadata": {
    "vscode": {
     "languageId": "plaintext"
    }
   },
   "outputs": [],
   "source": [
    "data_FNs = []\n",
    "mov_window = 0.2 # 200 ms\n",
    "mov_10ms = int(0.01/binwin) # move the mov_window this many bins\n",
    "for direction in range(0,len(data)):\n",
    "    binwin = data[direction]['binwin']\n",
    "    windowBin = int(mov_window/binwin)\n",
    "    \n",
    "    direction_FNs = []\n",
    "    \n",
    "    for trial in range(0,len(data[direction]['trialData'])):\n",
    "        trial_FNs  = []\n",
    "        trialData = data[direction]['trialData'][trial]['trialBinnedSpikes'] \n",
    "        \n",
    "        for j in range(0,trialData[0].shape[0]-windowBin,mov_10ms):\n",
    "            status(\"computing FN for direction: {},trial: {}, window: {}/{}\".format(direction, trial,j/mov_10ms,(trialData[0].shape[0]-windowBin-1)/mov_10ms))\n",
    "            temp = [x[j:j+windowBin] for x in trialData]\n",
    "            tempFN = make_FN(temp,metric='fMI',plot=False)\n",
    "            trial_FNs.append(tempFN)\n",
    "            \n",
    "        direction_FNs.append(trial_FNs)\n",
    "        \n",
    "    data_FNs.append(direction_FNs)\n",
    "    \n",
    "# save as pkl file\n",
    "save_dir = pjoin(output_dir,'CenterOut_FN_{}msBin_with{}buffer_MIonly.pkl'.format(int(binwin*1000),int(buffer*1000)))\n",
    "savePickle(save_dir,data_FNs)\n",
    "status(\"DONE!\")"
   ]
  }
 ],
 "metadata": {
  "kernelspec": {
   "display_name": "Python 3",
   "language": "python",
   "name": "python3"
  },
  "language_info": {
   "codemirror_mode": {
    "name": "ipython",
    "version": 3
   },
   "file_extension": ".py",
   "mimetype": "text/x-python",
   "name": "python",
   "nbconvert_exporter": "python",
   "pygments_lexer": "ipython3",
   "version": "3.8.3"
  }
 },
 "nbformat": 4,
 "nbformat_minor": 4
}
