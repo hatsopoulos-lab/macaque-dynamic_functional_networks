{
 "cells": [
  {
   "cell_type": "code",
   "execution_count": null,
   "metadata": {},
   "outputs": [],
   "source": [
    "# run IPYNB that imports all the relevant packages and functions\n",
    "%run ../ms_packages_and_functions.ipynb"
   ]
  },
  {
   "cell_type": "code",
   "execution_count": null,
   "metadata": {},
   "outputs": [],
   "source": [
    "output_dir = pjoin(os.getcwd(), 'processed_data')\n",
    "data_dir   = pjoin(os.getcwd(), 'raw_data')\n",
    "fig_dir    = pjoin(os.getcwd(), 'figures')"
   ]
  },
  {
   "cell_type": "code",
   "execution_count": null,
   "metadata": {},
   "outputs": [],
   "source": [
    "data = loadPickle('processed_data/rj1031209_CenterOut_data_10msBin_with500buffer_MIonly.pkl')"
   ]
  },
  {
   "cell_type": "code",
   "execution_count": null,
   "metadata": {},
   "outputs": [],
   "source": [
    "rand_state = '003' #np.random.randint(1000000000)"
   ]
  },
  {
   "cell_type": "code",
   "execution_count": null,
   "metadata": {},
   "outputs": [],
   "source": [
    "folder_path = pjoin(output_dir,'RJ_nulls-poisson-200ms-{}'.format(rand_state))\n",
    "\n",
    "if not os.path.exists(folder_path):\n",
    "    os.mkdir(folder_path)\n",
    "    print(\"created directory: {}\".format(folder_path))\n",
    "else:\n",
    "    print(\"All files will be saved in: {}\".format(folder_path))\n"
   ]
  },
  {
   "cell_type": "code",
   "execution_count": null,
   "metadata": {},
   "outputs": [],
   "source": [
    "num_processes = 10  # how many parallel processes to run"
   ]
  },
  {
   "cell_type": "code",
   "execution_count": null,
   "metadata": {},
   "outputs": [],
   "source": [
    "buffer = 0.5\n",
    "kernel_sigma = 20*pq.ms\n",
    "sampling_period = 10*pq.ms\n",
    "kernel = el.kernels.GaussianKernel(sigma = kernel_sigma)\n",
    "\n",
    "mov_window = 0.2 # 200 ms\n",
    "binwin = data[0]['binwin']\n",
    "mov_10ms = int(0.01/binwin)\n",
    "windowBin = int(mov_window/binwin)\n",
    "\n",
    "num_units = data[0]['trialData'][0]['trialNumUnits']"
   ]
  },
  {
   "cell_type": "code",
   "execution_count": null,
   "metadata": {},
   "outputs": [],
   "source": [
    "run = True\n",
    "num_sim = 15"
   ]
  },
  {
   "cell_type": "code",
   "execution_count": null,
   "metadata": {},
   "outputs": [],
   "source": [
    "if run:\n",
    "    for sim in range(0,num_sim):\n",
    "        poisson_rasters = []\n",
    "        poisson_FNs = []\n",
    "\n",
    "        direction_rasters = []\n",
    "        direction_FNs = []\n",
    "        for direction in range(0,len(data)):\n",
    "\n",
    "            windowBin = int(mov_window/binwin)\n",
    "            direction_rasters.append([])\n",
    "            direction_FNs.append([])\n",
    "\n",
    "            trial_rasters  = []\n",
    "            trial_FNs = []\n",
    "            \n",
    "            for trial in range(0,len(data[direction]['trialData'])):\n",
    "                trial_rasters.append([])\n",
    "                trial_FNs.append([])\n",
    "\n",
    "                poiss = {}\n",
    "                poiss['spiketimes'] = []\n",
    "\n",
    "                # start time at 0\n",
    "                # bx has 500ms buffer in the trial start and end\n",
    "                t_start = data[direction]['trialData'][trial]['trialStart'] - buffer\n",
    "                t_stop  =  data[direction]['trialData'][trial]['trialEnd'] + buffer - t_start\n",
    "                \n",
    "\n",
    "                for unit in range(0,num_units):\n",
    "                    spiketimes = np.array(data[direction]['trialData'][trial]['trialSpiketimes']['spiketimes'][unit])-t_start\n",
    "                    spiketrain = neo.core.SpikeTrain(spiketimes*pq.s,\\\n",
    "                                    t_start = 0,\\\n",
    "                                    t_stop = t_stop)\n",
    "                    fr = el.statistics.instantaneous_rate(spiketrain,sampling_period=sampling_period,kernel=kernel)\n",
    "                    \n",
    "                    poiss_spiketrain = el.spike_train_generation.inhomogeneous_poisson_process(fr)\n",
    "\n",
    "                    poiss['spiketimes'].append(poiss_spiketrain.times.simplified.magnitude)\n",
    "                    \n",
    "                trialData,_ = bin_spikes(poiss,0,t_stop,binwin,plot=False)\n",
    "                \n",
    "                test = [[x[j:j+windowBin] for x in trialData] for j in range(0,trialData[0].shape[0]-windowBin,mov_10ms)]\n",
    "\n",
    "                status(\"> Generating FN for direction: {}/{},trial: {}/{}\".format(direction, len(data), \\\n",
    "                            trial,len(data[direction]['trialData'])))\n",
    "\n",
    "                with Pool(num_processes) as p:\n",
    "                    time_FNs = p.map(make_FN, test)\n",
    "\n",
    "                trial_FNs[trial].append(time_FNs)\n",
    "            #     trial_rasters[trial].append(trialData)\n",
    "\n",
    "            # direction_rasters[direction].append(trialData)\n",
    "            direction_FNs[direction].append(trial_FNs)\n",
    "\n",
    "        # poisson_rasters.append(direction_rasters)\n",
    "        poisson_FNs.append(direction_FNs)\n",
    "\n",
    "        # print('> SAVING...')\n",
    "        # save_dir = pjoin(folder_path,'poisson_rasters_{}.pkl'.format(str(sim).zfill(3)))\n",
    "        # savePickle(save_dir,poisson_rasters)\n",
    "        # print('>> saved poisson_rasters in folder: {}'.format(save_dir))\n",
    "        \n",
    "\n",
    "        save_dir = pjoin(folder_path,'poisson_FNs_{}.pkl'.format(str(sim).zfill(3)))\n",
    "        savePickle(save_dir,poisson_FNs)\n",
    "        print('>> saved poisson_FNs in folder: {}'.format(save_dir))\n",
    "\n",
    "        # del poisson_rasters,poisson_FNs, direction_rasters,   direction_FNs, trial_rasters, trial_FNs\n",
    "        del poisson_FNs,direction_FNs, trial_FNs\n"
   ]
  },
  {
   "cell_type": "code",
   "execution_count": null,
   "metadata": {},
   "outputs": [],
   "source": [
    "# save_dir = pjoin(folder_path,'poisson_FNs_{}.pkl'.format(str(sim).zfill(3)))\n",
    "# savePickle(save_dir,poisson_FNs)\n",
    "# print('>> saved poisson_FNs in folder: {}'.format(save_dir))"
   ]
  }
 ],
 "metadata": {
  "interpreter": {
   "hash": "2a98fdb5df325e6c89fa53031196f20ef23f8725fbf0bb59d954c6e8610a0bce"
  },
  "kernelspec": {
   "display_name": "Python 3.8.5 64-bit ('reach-analysis': conda)",
   "name": "python3"
  },
  "language_info": {
   "codemirror_mode": {
    "name": "ipython",
    "version": 3
   },
   "file_extension": ".py",
   "mimetype": "text/x-python",
   "name": "python",
   "nbconvert_exporter": "python",
   "pygments_lexer": "ipython3",
   "version": "3.8.5"
  },
  "orig_nbformat": 4
 },
 "nbformat": 4,
 "nbformat_minor": 2
}
