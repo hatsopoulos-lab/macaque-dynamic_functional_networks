{
 "cells": [
  {
   "cell_type": "code",
   "execution_count": null,
   "metadata": {},
   "outputs": [],
   "source": [
    "# run IPYNB that imports all the relevant packages and functions\n",
    "%run ../ms_packages_and_functions.ipynb"
   ]
  },
  {
   "cell_type": "code",
   "execution_count": null,
   "metadata": {},
   "outputs": [],
   "source": [
    "output_dir = pjoin(os.getcwd(), 'processed_data')\n",
    "data_dir   = pjoin(os.getcwd(), 'raw_data')\n"
   ]
  },
  {
   "cell_type": "code",
   "execution_count": null,
   "metadata": {},
   "outputs": [],
   "source": [
    "data = loadPickle('processed_data/rj1031209_CenterOut_data_10msBin_with500buffer_MIonly.pkl')"
   ]
  },
  {
   "cell_type": "code",
   "execution_count": null,
   "metadata": {},
   "outputs": [],
   "source": [
    "rand_state = '003' #np.random.randint(1000000000)"
   ]
  },
  {
   "cell_type": "code",
   "execution_count": null,
   "metadata": {},
   "outputs": [],
   "source": [
    "folder_path = pjoin(output_dir,'RJ_FN+Embedding_fullTrial-{}'.format(rand_state))\n",
    "\n",
    "if not os.path.exists(folder_path):\n",
    "    os.mkdir(folder_path)\n",
    "    print(\"created directory: {}\".format(folder_path))\n",
    "else:\n",
    "    print(\"All files will be saved in: {}\".format(folder_path))\n"
   ]
  },
  {
   "cell_type": "code",
   "execution_count": null,
   "metadata": {},
   "outputs": [],
   "source": [
    "fig_dir    = pjoin(folder_path,'figures')\n",
    "if not os.path.exists(fig_dir):\n",
    "    os.mkdir(fig_dir)\n",
    "    print(\"created directory: {}\".format(fig_dir))\n",
    "else:\n",
    "    print(\"All figures will be saved in: {}\".format(fig_dir))"
   ]
  },
  {
   "cell_type": "markdown",
   "metadata": {},
   "source": [
    "# 1. Generate Full Trial Data FNs"
   ]
  },
  {
   "cell_type": "code",
   "execution_count": null,
   "metadata": {},
   "outputs": [],
   "source": [
    "save_FNs = True\n",
    "if 'data_FNs' not in locals():\n",
    "    print(\"data_FNs not found\")\n",
    "    print(\"creating data_FNs\")\n",
    "\n",
    "    data_FNs = []\n",
    "\n",
    "    direction_FNs = []\n",
    "\n",
    "    for direction in range(0,len(data)):\n",
    "\n",
    "        direction_FNs.append([])\n",
    "        \n",
    "        for trial in range(0,len(data[direction]['trialData'])):\n",
    "            \n",
    "            status(\"> Generating FN for direction: {}/{},trial: {}/{}\".format(direction, len(data), \\\n",
    "                    trial,len(data[direction]['trialData'])))\n",
    "            trialData = data[direction]['trialData'][trial]['trialBinnedSpikes']\n",
    "            tempFN = make_FN(trialData,metric='fMI',plot=False)\n",
    "            direction_FNs[direction].append(tempFN)\n",
    "\n",
    "    data_FNs.append(direction_FNs)\n",
    "    if save_FNs:\n",
    "        save_dir = pjoin(folder_path,'RJ_CenterOut_FN_10ms_fullTrial.pkl')\n",
    "        savePickle(save_dir,data_FNs)"
   ]
  },
  {
   "cell_type": "markdown",
   "metadata": {},
   "source": [
    "# 2. Flatten FNs"
   ]
  },
  {
   "cell_type": "code",
   "execution_count": null,
   "metadata": {},
   "outputs": [],
   "source": [
    "# load data\n",
    "data_FNs= loadPickle('processed_data/RJ_FN+Embedding_fullTrial-001/RJ_CenterOut_FN_10ms_fullTrial.pkl')"
   ]
  },
  {
   "cell_type": "code",
   "execution_count": null,
   "metadata": {},
   "outputs": [],
   "source": [
    "trials = loadPickle('processed_data/rj031209_trials_by_cutoff.pkl')\n",
    "cutoff = 1.5"
   ]
  },
  {
   "cell_type": "code",
   "execution_count": null,
   "metadata": {},
   "outputs": [],
   "source": [
    "dirs = np.arange(8)\n",
    "FN_flattened = {'data':[flattenNetwork(W) for direction,x in enumerate(data_FNs[0]) for trial,W in enumerate(x) if trial in trials[cutoff]['trials'][direction] and direction in dirs],\n",
    "                'FN_info': [[direction,trial] for direction in range(len(data_FNs[0])) \n",
    "                                              for trial in range(len(data_FNs[0][direction])) if trial in trials[cutoff]['trials'][direction] and direction in dirs]}\n",
    "\n",
    "savePickle(pjoin(folder_path,f'RJ_CenterOut_FN_10ms_fullTrial_flattened-{cutoff}.pkl'),FN_flattened)"
   ]
  },
  {
   "cell_type": "code",
   "execution_count": null,
   "metadata": {},
   "outputs": [],
   "source": [
    "dirs"
   ]
  },
  {
   "cell_type": "markdown",
   "metadata": {},
   "source": [
    "# 3. Embed"
   ]
  },
  {
   "cell_type": "code",
   "execution_count": null,
   "metadata": {},
   "outputs": [],
   "source": [
    "print(\">> Embedding data...\")\n",
    "rand_state = 82437048#np.random.randint(1000000000)\n",
    "umap_reducer = umap.UMAP(n_neighbors=100, n_components=2,min_dist=0.5,random_state=rand_state,metric='cosine')\n",
    "embeddings_2d = umap_reducer.fit_transform(FN_flattened['data'])\n",
    "print(\"done embedding!\")\n",
    "save_dir = pjoin(folder_path,f'RJ_FN+Embedding_fullTrial_UMAP_allDirs_{rand_state}.pkl')\n",
    "savePickle(save_dir,embeddings_2d)"
   ]
  },
  {
   "cell_type": "code",
   "execution_count": null,
   "metadata": {},
   "outputs": [],
   "source": [
    "save_dir"
   ]
  },
  {
   "cell_type": "code",
   "execution_count": null,
   "metadata": {},
   "outputs": [],
   "source": [
    "figure = plt.figure(figsize=(20,20))\n",
    "cmap = sns.color_palette(\"husl\",8)\n",
    "\n",
    "ax = figure.add_subplot(111)\n",
    "for s in range(0,len(data)):\n",
    "    idx = [i for i,x in enumerate(FN_flattened['FN_info']) if x[0]==s]\n",
    "    colors = [cmap[x[0]] for x in np.array(FN_flattened['FN_info'])[idx]]\n",
    "    ax.scatter(embeddings_2d[idx, 0], embeddings_2d[idx, 1],c=colors,marker='.',alpha=0.2)\n",
    "    sns.kdeplot(x=embeddings_2d[idx, 0], y=embeddings_2d[idx, 1],shade= True,levels=2, color=cmap[s],thresh=0.1,alpha=0.2)\n",
    "    ax.axis('equal')\n",
    "#\n",
    "colors =  [cmap[x[0]] for x in FN_flattened['FN_info']]\n",
    "ax.scatter(embeddings_2d[:,0], embeddings_2d[:,1], c=colors,s= 100, alpha=1) #edgecolor = (0,0,0)\n",
    "\n",
    "ax.set_xlabel('UMAP X (au)')\n",
    "ax.set_ylabel('UMAP Y (au)')\n",
    "ax.set_title('RS_UMAP_fullTrial')\n",
    "ax.spines['right'].set_visible(False)\n",
    "ax.spines['top'].set_visible(False)\n",
    "ax.spines['bottom'].set_visible(False)\n",
    "ax.spines['left'].set_visible(False)\n",
    "plt.savefig(pjoin(fig_dir,f'RS_UMAP_allDirs_{rand_state}.png'))"
   ]
  },
  {
   "cell_type": "code",
   "execution_count": null,
   "metadata": {},
   "outputs": [],
   "source": [
    "min_dist_vals = [0,0.01,0.05,0.1,0.5,1]\n",
    "n_neighbor_vals = [5,15,30,50,100]\n",
    "cmap = sns.color_palette('husl',8)\n",
    "colors = [cmap[x[0]] for x in np.array(FN_flattened['FN_info'])]\n",
    "\n",
    "figure = plt.figure(figsize=(20,20))\n",
    "plot_num = 0\n",
    "for row, min_dist in enumerate(min_dist_vals):\n",
    "    for col,n_neighbor in enumerate(n_neighbor_vals):\n",
    "        umap_reducer = umap.UMAP(n_neighbors=n_neighbor, n_components=2,min_dist=min_dist,random_state=rand_state,metric='cosine')\n",
    "        embeddings_2d = umap_reducer.fit_transform(FN_flattened['data'])\n",
    "        plot_num +=1\n",
    "        plt.subplot(len(min_dist_vals),len(n_neighbor_vals),plot_num)\n",
    "        plt.title(\"m-dist: {},nn ={}\".format(min_dist,n_neighbor))\n",
    "        plt.scatter(embeddings_2d[:, 0], embeddings_2d[:, 1],c=colors,marker='.',alpha=1)\n",
    "        \n",
    "plt.savefig(pjoin(fig_dir,f'RJ_UMAP-params-grid_allDirs_{rand_state}.png'))\n",
    "        "
   ]
  },
  {
   "cell_type": "markdown",
   "metadata": {},
   "source": [
    "# 6. GAS"
   ]
  },
  {
   "cell_type": "code",
   "execution_count": null,
   "metadata": {},
   "outputs": [],
   "source": [
    "trials = loadPickle('processed_data/rj031209_trials_by_cutoff.pkl')"
   ]
  },
  {
   "cell_type": "code",
   "execution_count": null,
   "metadata": {},
   "outputs": [],
   "source": [
    "data_FNs = loadPickle('processed_data/RJ_FN+Embedding_fullTrial-001/RJ_CenterOut_FN_10ms_fullTrial.pkl')"
   ]
  },
  {
   "cell_type": "code",
   "execution_count": null,
   "metadata": {},
   "outputs": [],
   "source": [
    "# resample data FNs to only include trials in cutoff\n",
    "cutoff = 1.5\n",
    "data_alignment_scores = []\n",
    "\n",
    "all_trials = [[dir,trial] for dir in range(0,len(data_FNs[0]))\n",
    "                        for trial in range(0,len(data_FNs[0][dir]))]\n",
    "                        \n",
    "FN_pairs = [y for y in itertools.combinations(all_trials,2)]\n",
    "\n",
    "cdist = [circdistance(8,y[0][0],y[1][0]) for y in FN_pairs]\n",
    "\n",
    "[data_alignment_scores.append([]) for x in range(8)]#np.unique(cdist)]\n",
    "\n",
    "for c, pair in zip(cdist,FN_pairs):\n",
    "    if (pair[0][1] in trials[cutoff]['trials'][pair[0][0]]) and (pair[1][1] in trials[cutoff]['trials'][pair[1][0]]):\n",
    "        score = align_score(data_FNs[0][pair[0][0]][pair[0][1]],data_FNs[0][pair[1][0]][pair[1][1]])\n",
    "        data_alignment_scores[c].append(score)\n",
    "\n",
    "save_dir = pjoin(folder_path,'data_alignment_score.pkl')\n",
    "savePickle(save_dir,data_alignment_scores)"
   ]
  },
  {
   "cell_type": "code",
   "execution_count": null,
   "metadata": {},
   "outputs": [],
   "source": [
    "null_FNs = loadPickle('processed_data/RJ_nulls-poisson-full-000/poisson_FNs_fullTrial_100.pkl')"
   ]
  },
  {
   "cell_type": "code",
   "execution_count": null,
   "metadata": {},
   "outputs": [],
   "source": [
    "null_alignment_scores = []\n",
    "\n",
    "for i,FNs in enumerate(null_FNs):\n",
    "    status('getting alignment scores for nulls: sim#{}'.format(i))\n",
    "    null_alignment_scores.append([])\n",
    "\n",
    "    all_trials = [[dir,trial] for dir in range(0,len(FNs[0]))\n",
    "                            for trial in range(0,len(FNs[0][dir]))]\n",
    "    FN_pairs = [y for y in itertools.combinations(all_trials,2)]\n",
    "\n",
    "    cdist = [circdistance(8,y[0][0],y[1][0]) for y in FN_pairs]\n",
    "\n",
    "    [null_alignment_scores[i].append([]) for x in  range(8)]#np.unique(cdist)]\n",
    "\n",
    "    for c, pair in zip(cdist,FN_pairs):\n",
    "        if (pair[0][1] in trials[cutoff]['trials'][pair[0][0]]) and (pair[1][1] in trials[cutoff]['trials'][pair[1][0]]):\n",
    "            score = align_score(FNs[0][pair[0][0]][pair[0][1]],FNs[0][pair[1][0]][pair[1][1]])\n",
    "            null_alignment_scores[i][c].append(score)\n",
    "save_dir = pjoin(folder_path,'null_alignment_score.pkl')\n",
    "savePickle(save_dir,null_alignment_scores)"
   ]
  }
 ],
 "metadata": {
  "interpreter": {
   "hash": "8ea19d57ab4618a5a39b6efa37d7af7a700e4f0eed90eb004557bb70fbacdfe2"
  },
  "kernelspec": {
   "display_name": "Python 3",
   "language": "python",
   "name": "python3"
  },
  "language_info": {
   "codemirror_mode": {
    "name": "ipython",
    "version": 3
   },
   "file_extension": ".py",
   "mimetype": "text/x-python",
   "name": "python",
   "nbconvert_exporter": "python",
   "pygments_lexer": "ipython3",
   "version": "3.8.5"
  }
 },
 "nbformat": 4,
 "nbformat_minor": 2
}
