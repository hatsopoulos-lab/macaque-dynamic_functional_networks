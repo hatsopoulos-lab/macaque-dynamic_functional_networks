{
 "cells": [
  {
   "cell_type": "code",
   "execution_count": null,
   "metadata": {},
   "outputs": [],
   "source": [
    "# run IPYNB that imports all the relevant packages and functions\n",
    "%run ../ms_packages_and_functions.ipynb"
   ]
  },
  {
   "cell_type": "code",
   "execution_count": null,
   "metadata": {},
   "outputs": [],
   "source": [
    "output_dir = pjoin(os.getcwd(), 'processed_data')\n",
    "data_dir   = pjoin(os.getcwd(), 'raw_data')\n",
    "fig_dir    = pjoin(os.getcwd(), 'figures')\n"
   ]
  },
  {
   "cell_type": "code",
   "execution_count": null,
   "metadata": {},
   "outputs": [],
   "source": [
    "data = loadPickle('raw_data/rockstar_CenterOut_data_10msBin_with500buffer.pkl')"
   ]
  },
  {
   "cell_type": "code",
   "execution_count": null,
   "metadata": {},
   "outputs": [],
   "source": [
    "rand_state = '000' #np.random.randint(1000000000)"
   ]
  },
  {
   "cell_type": "code",
   "execution_count": null,
   "metadata": {},
   "outputs": [],
   "source": [
    "folder_path = pjoin(output_dir,'RS_nulls-poisson-200ms-{}'.format(rand_state))\n",
    "\n",
    "if not os.path.exists(folder_path):\n",
    "    os.mkdir(folder_path)\n",
    "    print(\"created directory: {}\".format(folder_path))\n",
    "else:\n",
    "    print(\"All files will be saved in: {}\".format(folder_path))\n"
   ]
  },
  {
   "cell_type": "markdown",
   "metadata": {},
   "source": [
    "# 1. Example of Inhomogenous Poisson Model"
   ]
  },
  {
   "cell_type": "code",
   "execution_count": null,
   "metadata": {},
   "outputs": [],
   "source": [
    "# run = True"
   ]
  },
  {
   "cell_type": "code",
   "execution_count": null,
   "metadata": {},
   "outputs": [],
   "source": [
    "buffer = 0.5\n",
    "plt.figure()\n",
    "num_sim = 50\n",
    "num_units = 10\n",
    "kernel_sigma = 20*pq.ms\n",
    "sampling_period = 10*pq.ms\n",
    "direction = 0\n",
    "trial = 10\n",
    "kernel = el.kernels.GaussianKernel(sigma = kernel_sigma)\n",
    "\n",
    "# if run:\n",
    "#     for unit in range(0,num_units):\n",
    "#         eventplot_data = []\n",
    "#         eventplot_c = []\n",
    "#         t_start = data[direction]['trialData'][trial]['trialStart']-buffer\n",
    "#         t_stop  =  data[direction]['trialData'][trial]['trialEnd']+buffer - t_start\n",
    "\n",
    "#         spiketimes = np.array(data[direction]['trialData'][trial]['trialSpiketimes']['spiketimes'][unit])-t_start\n",
    "#         spiketrain = neo.core.SpikeTrain(spiketimes*pq.s,\\\n",
    "#                         t_start = 0,\\\n",
    "#                         t_stop = t_stop)\n",
    "\n",
    "#         kernel = el.kernels.GaussianKernel(sigma = kernel_sigma)\n",
    "\n",
    "#         fr = el.statistics.instantaneous_rate(spiketrain,sampling_period=sampling_period,kernel=kernel)\n",
    "#         eventplot_data.append(spiketrain.simplified.magnitude)\n",
    "#         eventplot_c.append('black')\n",
    "\n",
    "#         plt.figure(figsize=(7,5))\n",
    "#         plt.plot(fr.times.simplified.magnitude, fr.magnitude, color='b',linewidth=2,label='data')\n",
    "\n",
    "#         poiss_fr = []\n",
    "#         for x in range(0,num_sim):\n",
    "#             poiss = el.spike_train_generation.inhomogeneous_poisson_process(fr)\n",
    "#             poiss_fr_temp = el.statistics.instantaneous_rate(poiss,sampling_period=sampling_period,kernel=kernel)\n",
    "#             poiss_fr.append(poiss_fr_temp)\n",
    "#             eventplot_data.append(poiss.simplified.magnitude)\n",
    "#             eventplot_c.append('green')     \n",
    "#         poiss_fr = np.mean(np.array(poiss_fr),axis=0)\n",
    "#         max_fr = np.max([np.max(poiss_fr),np.max(fr.simplified.magnitude)])\n",
    "#         plt.plot(poiss_fr_temp.times.simplified.magnitude, poiss_fr,'r',linewidth=2,label='poisson')\n",
    "\n",
    "#         plt.eventplot(eventplot_data,color=eventplot_c,lineoffsets=(max_fr/num_sim)*1.001, linelengths=(max_fr/num_sim),alpha=0.5)\n",
    "#         plt.legend(frameon=False)\n",
    "#         plt.title(\"UNIT {}: Firing Rate and Raster for Data and Poisson Model, n={}\".format(unit,num_sim))\n",
    "#         plt.xlabel('time (s)')\n",
    "#         plt.ylabel('FR ($s^{-1}$)')\n",
    "#         ax = plt.gca()\n",
    "#         ax.spines['right'].set_visible(False)\n",
    "#         ax.spines['top'].set_visible(False)\n",
    "#         ax.spines['bottom'].set_visible(False)\n",
    "#         ax.spines['left'].set_visible(False)\n",
    "        \n",
    "#         save_dir = pjoin(folder_path,'poisson-vs-data_unit{}_direction{}_trial{}.png'.format(str(unit).zfill(3),direction,trial))\n",
    "#         plt.savefig(save_dir)"
   ]
  },
  {
   "cell_type": "markdown",
   "metadata": {},
   "source": [
    "# 2. Generate FNs: 200 ms moving window"
   ]
  },
  {
   "cell_type": "code",
   "execution_count": null,
   "metadata": {},
   "outputs": [],
   "source": [
    "run = True"
   ]
  },
  {
   "cell_type": "code",
   "execution_count": null,
   "metadata": {},
   "outputs": [],
   "source": [
    "if run:\n",
    "    mov_window = 0.2 # 200 ms\n",
    "    binwin = data[0]['binwin']\n",
    "    mov_10ms = int(0.01/binwin)\n",
    "    buffer = 0.5\n",
    "\n",
    "    num_units = data[0]['trialData'][0]['trialNumUnits'] + 1\n",
    "\n",
    "    num_sim = 10\n",
    "\n",
    "\n",
    "    for sim in range(0,num_sim):\n",
    "        poisson_rasters = []\n",
    "        poisson_FNs = []\n",
    "\n",
    "        direction_rasters = []\n",
    "        direction_FNs = []\n",
    "        for direction in range(0,len(data)):\n",
    "\n",
    "            windowBin = int(mov_window/binwin)\n",
    "            direction_rasters.append([])\n",
    "            direction_FNs.append([])\n",
    "\n",
    "            trial_rasters  = []\n",
    "            trial_FNs = []\n",
    "            \n",
    "            for trial in range(0,len(data[direction]['trialData'])):\n",
    "\n",
    "\n",
    "                trial_rasters.append([])\n",
    "                trial_FNs.append([])\n",
    "\n",
    "                poiss = {}\n",
    "                poiss['spiketimes'] = []\n",
    "\n",
    "                # start time at 0\n",
    "                t_start = data[direction]['trialData'][trial]['trialStart']-buffer\n",
    "                t_stop  =  data[direction]['trialData'][trial]['trialEnd']+buffer - t_start\n",
    "                \n",
    "\n",
    "                for unit in range(0,num_units):\n",
    "                    status(\"> Generating Poisson Spike Trains for direction: {}/{},trial: {}/{}, unit: {}/{}\".format(direction, len(data), \\\n",
    "                            trial,len(data[direction]['trialData']), unit,num_units))\n",
    "                    spiketimes = np.array(data[direction]['trialData'][trial]['trialSpiketimes']['spiketimes'][unit])-t_start\n",
    "                    spiketrain = neo.core.SpikeTrain(spiketimes*pq.s,\\\n",
    "                                    t_start = 0,\\\n",
    "                                    t_stop = t_stop)\n",
    "                    fr = el.statistics.instantaneous_rate(spiketrain,sampling_period=sampling_period,kernel=kernel)\n",
    "                    \n",
    "                    poiss_spiketrain = el.spike_train_generation.inhomogeneous_poisson_process(fr)\n",
    "\n",
    "                    poiss['spiketimes'].append(poiss_spiketrain.times.simplified.magnitude)\n",
    "                    \n",
    "                trialData,_ = bin_spikes(poiss,0,t_stop,binwin,plot=False)\n",
    "\n",
    "                time_FNs = []\n",
    "                for j in range(0,trialData[0].shape[0]-windowBin,mov_10ms):\n",
    "                    status(\"> Computing FN for direction: {},trial: {}, window: {}/{}\".format(direction, trial,j/mov_10ms,(trialData[0].shape[0]-windowBin-1)/mov_10ms))\n",
    "\n",
    "                    temp = [x[j:j+windowBin] for x in trialData]\n",
    "                    tempFN = make_FN(temp,metric='fMI',plot=False)\n",
    "                    time_FNs.append(tempFN)\n",
    "                trial_FNs[trial].append(time_FNs)\n",
    "                trial_rasters[trial].append(trialData)\n",
    "\n",
    "            direction_rasters[direction].append(trialData)\n",
    "            direction_FNs[direction].append(trial_FNs)\n",
    "\n",
    "        poisson_rasters.append(direction_rasters)\n",
    "        poisson_FNs.append(direction_FNs)\n",
    "\n",
    "        print('> SAVING...')\n",
    "        save_dir = pjoin(folder_path,'poisson_rasters_{}.pkl'.format(str(sim).zfill(3)))\n",
    "        savePickle(save_dir,poisson_rasters)\n",
    "        print('>> saved poisson_rasters in folder: {}'.format(save_dir))\n",
    "        \n",
    "\n",
    "        save_dir = pjoin(folder_path,'poisson_FNs_{}.pkl'.format(str(sim).zfill(3)))\n",
    "        savePickle(save_dir,poisson_FNs)\n",
    "        print('>> saved poisson_FNs in folder: {}'.format(save_dir))\n",
    "\n",
    "        del poisson_rasters,poisson_FNs, direction_rasters, direction_FNs, trial_rasters, trial_FNs\n"
   ]
  }
 ],
 "metadata": {
  "interpreter": {
   "hash": "2a98fdb5df325e6c89fa53031196f20ef23f8725fbf0bb59d954c6e8610a0bce"
  },
  "kernelspec": {
   "display_name": "Python 3",
   "language": "python",
   "name": "python3"
  },
  "language_info": {
   "codemirror_mode": {
    "name": "ipython",
    "version": 3
   },
   "file_extension": ".py",
   "mimetype": "text/x-python",
   "name": "python",
   "nbconvert_exporter": "python",
   "pygments_lexer": "ipython3",
   "version": "3.8.5"
  }
 },
 "nbformat": 4,
 "nbformat_minor": 2
}
