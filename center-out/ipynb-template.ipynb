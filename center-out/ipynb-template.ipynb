{
 "cells": [
  {
   "cell_type": "markdown",
   "metadata": {},
   "source": [
    "# SETUP"
   ]
  },
  {
   "cell_type": "markdown",
   "metadata": {},
   "source": [
    "# SETUP"
   ]
  },
  {
   "cell_type": "code",
   "execution_count": null,
   "metadata": {},
   "outputs": [],
   "source": [
    "# run IPYNB that imports all the relevant packages and functions\n",
    "%run ../ms_packages_and_functions.ipynb"
   ]
  },
  {
   "cell_type": "code",
   "execution_count": null,
   "metadata": {},
   "outputs": [],
   "source": [
    "output_dir = pjoin(os.getcwd(), 'processed_data')\n",
    "data_dir  = pjoin(os.getcwd(), 'raw_data')"
   ]
  },
  {
   "cell_type": "code",
   "execution_count": null,
   "metadata": {},
   "outputs": [],
   "source": [
    "# run_path = pjoin(output_dir,'')\n",
    "\n",
    "if not os.path.exists(run_path):\n",
    "    os.mkdir(run_path)\n",
    "    print(\"created directory: {}\".format(run_path))\n",
    "else:\n",
    "    print(\"All files will be saved in: {}\".format(run_path))"
   ]
  },
  {
   "cell_type": "code",
   "execution_count": null,
   "metadata": {},
   "outputs": [],
   "source": [
    "fig_dir = pjoin(run_path,'figures')\n",
    "\n",
    "if not os.path.exists(fig_dir):\n",
    "    os.mkdir(fig_dir)\n",
    "    print(\"created directory: {}\".format(fig_dir))\n",
    "else:\n",
    "    print(\"All files will be saved in: {}\".format(fig_dir))"
   ]
  }
 ],
 "metadata": {
  "language_info": {
   "name": "python"
  },
  "orig_nbformat": 4
 },
 "nbformat": 4,
 "nbformat_minor": 2
}
