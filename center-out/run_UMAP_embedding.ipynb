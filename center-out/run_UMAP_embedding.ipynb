{
 "cells": [
  {
   "cell_type": "code",
   "execution_count": null,
   "metadata": {},
   "outputs": [],
   "source": [
    "%run ../ms_packages_and_functions.ipynb"
   ]
  },
  {
   "cell_type": "code",
   "execution_count": null,
   "metadata": {},
   "outputs": [],
   "source": [
    "output_dir = pjoin(os.getcwd(), 'processed_data')\n",
    "data_dir  = pjoin(os.getcwd(), 'raw_data')\n",
    "fig_dir   = pjoin(os.getcwd(), 'figures')"
   ]
  },
  {
   "cell_type": "code",
   "execution_count": null,
   "metadata": {},
   "outputs": [],
   "source": [
    "rand_state = '002'#np.random.randint(1000000000)"
   ]
  },
  {
   "cell_type": "code",
   "execution_count": null,
   "metadata": {},
   "outputs": [],
   "source": [
    "folder_path = pjoin(output_dir,'rj1031209-UMAP-embedding-{}'.format(rand_state))\n",
    "\n",
    "if not os.path.exists(folder_path):\n",
    "    os.mkdir(folder_path)\n",
    "    print(\"created directory: {}\".format(folder_path))\n",
    "else:\n",
    "    print(\"All files will be saved in: {}\".format(folder_path))"
   ]
  },
  {
   "cell_type": "code",
   "execution_count": null,
   "metadata": {},
   "outputs": [],
   "source": [
    "fig_dir = pjoin(folder_path,'figures')\n",
    "\n",
    "if not os.path.exists(fig_dir):\n",
    "    os.mkdir(fig_dir)\n",
    "    print(\"created directory: {}\".format(fig_dir))\n",
    "else:\n",
    "    print(\"All files will be saved in: {}\".format(fig_dir))"
   ]
  },
  {
   "cell_type": "code",
   "execution_count": null,
   "metadata": {},
   "outputs": [],
   "source": [
    "data_FNs = loadPickle('processed_data/rj1031209_CenterOut_FN_10msBin_with500buffer_MIonly.pkl')"
   ]
  },
  {
   "cell_type": "code",
   "execution_count": null,
   "metadata": {},
   "outputs": [],
   "source": [
    "trials = loadPickle('processed_data/rj031209_trials_by_cutoff.pkl')\n",
    "cutoff = 1.5"
   ]
  },
  {
   "cell_type": "markdown",
   "metadata": {},
   "source": [
    "# Flatten FNs"
   ]
  },
  {
   "cell_type": "code",
   "execution_count": null,
   "metadata": {},
   "outputs": [],
   "source": [
    "cutoff = 1.5\n",
    "\n",
    "FN_flattened = {}\n",
    "FN_flattened['data'] = []\n",
    "FN_flattened['FN_info'] = []\n",
    "\n",
    "for direction in range(0,len(data_FNs)):\n",
    "    tr = -1\n",
    "    for trial in range(0,len(data_FNs[direction])):\n",
    "        \n",
    "        if trial in trials[cutoff]['trials'][direction]:\n",
    "            tr += 1\n",
    "            for time in range(0,len(data_FNs[direction][trial])):\n",
    "                status('flattening FNs: {},{},{}'.format(direction,trial,time))\n",
    "                FN_flattened['data'].append(flattenNetwork(data_FNs[direction][trial][time]))\n",
    "                FN_flattened['FN_info'].append([direction,tr,time])\n",
    "            \n",
    "save_dir = pjoin(output_dir,f'rj1031209_CenterOut_FN-Flattened_10msBin_with500buffer_MIonly-{cutoff}-trialCount.pkl')\n",
    "savePickle(save_dir,FN_flattened)\n",
    "del data_FNs"
   ]
  },
  {
   "cell_type": "markdown",
   "metadata": {},
   "source": [
    "# Embed"
   ]
  },
  {
   "cell_type": "code",
   "execution_count": null,
   "metadata": {},
   "outputs": [],
   "source": [
    "rand_state = np.random.randint(1000000000)\n",
    "umap_reducer = umap.UMAP(n_components=2, n_neighbors=100, min_dist=0.1,random_state=rand_state,metric='cosine')\n",
    "\n",
    "start_time = time2bin(0)\n",
    "end_time = time2bin(2)\n",
    "node_idx = [i for i,x in enumerate(FN_flattened['FN_info']) if (x[2] >= start_time\n",
    "                                                                and x[2] < end_time) ]\n",
    "\n",
    "embeddings = umap_reducer.fit_transform(np.array(FN_flattened['data'])[node_idx])\n",
    "save_dir = pjoin(folder_path,'FN_UMAP_embedding.pkl')\n",
    "savePickle(save_dir,embeddings)"
   ]
  },
  {
   "cell_type": "code",
   "execution_count": null,
   "metadata": {},
   "outputs": [],
   "source": [
    "figure = plt.figure(figsize=(15,15))\n",
    "ax = figure.add_subplot(111)\n",
    "\n",
    "cmap = sns.color_palette(\"husl\",8)\n",
    "temp_colors = [cmap[x[0]] for x in FN_flattened['FN_info']]\n",
    "alpha_values= np.array([x[2] for x in FN_flattened['FN_info']])\n",
    "alpha_values = alpha_values/np.max(alpha_values)\n",
    "\n",
    "start_time = time2bin(0)\n",
    "end_time = time2bin(2)\n",
    "\n",
    "node_idx = [i for i,x in enumerate(FN_flattened['FN_info']) if (x[2] >= start_time\n",
    "                                                                and x[2] < end_time) ]\n",
    "colors = np.array([list(x[0])+[x[1]] for x in zip(temp_colors,alpha_values)])[node_idx]\n",
    "\n",
    "# colors = np.array(temp_colors)[node_idx]\n",
    "# colors = [cmap[FN_flattened['FN_info'][x][0]] for x in node_idx]\n",
    "ax.scatter(embeddings[:, 0], embeddings[:, 1],c=colors,marker='.')\n",
    "ax.axis('equal')\n",
    "ax.set_axis_off()\n",
    "# plt.show()\n",
    "plt.savefig(pjoin(folder_path,'UMAP-embedding-nopretrial.png'))"
   ]
  },
  {
   "cell_type": "code",
   "execution_count": null,
   "metadata": {},
   "outputs": [],
   "source": [
    "figure = plt.figure(figsize=(15,15))\n",
    "ax = figure.add_subplot(111)\n",
    "\n",
    "cmap = sns.color_palette(\"husl\",8)\n",
    "temp_colors = [cmap[x[0]] for x in FN_flattened['FN_info']]\n",
    "alpha_values= np.array([x[2] for x in FN_flattened['FN_info']])\n",
    "alpha_values = alpha_values/np.max(alpha_values)\n",
    "\n",
    "start_time = time2bin(-0.5)\n",
    "end_time = time2bin(1.5)\n",
    "\n",
    "node_idx = [i for i,x in enumerate(FN_flattened['FN_info']) if (x[2] >= start_time\n",
    "                                                                and x[2] < end_time) ]\n",
    "colors = np.array([list(x[0])+[x[1]] for x in zip(temp_colors,alpha_values)])[node_idx]\n",
    "\n",
    "# colors = np.array(temp_colors)[node_idx]\n",
    "# colors = [cmap[FN_flattened['FN_info'][x][0]] for x in node_idx]\n",
    "ax.scatter(embeddings[node_idx, 0], embeddings[node_idx, 1],c=colors,marker='.')\n",
    "ax.axis('equal')\n",
    "ax.set_axis_off()\n",
    "# plt.show()\n",
    "plt.savefig(pjoin(folder_path,'UMAP-embedding-1-5sec-alpha.png'))"
   ]
  },
  {
   "cell_type": "code",
   "execution_count": null,
   "metadata": {},
   "outputs": [],
   "source": [
    "times = np.arange(-0.5,2.5,0.5)\n",
    "\n",
    "for t in times:\n",
    "    figure = plt.figure(figsize=(15,15))\n",
    "\n",
    "    ax = figure.add_subplot(111)\n",
    "\n",
    "    start_time = time2bin(t)\n",
    "    end_time = time2bin(t+0.5)\n",
    "    node_idx = [i for i,x in enumerate(FN_flattened['FN_info']) if (x[2] >= start_time\n",
    "                                                                    and x[2] < end_time) ]\n",
    "\n",
    "    gray_idx = [i for i,x in enumerate(FN_flattened['FN_info']) if (x[2] < start_time)]        \n",
    "    cmap = sns.color_palette(\"husl\",8)\n",
    "    colors = [cmap[FN_flattened['FN_info'][x][0]] for x in node_idx]\n",
    "\n",
    "\n",
    "    if gray_idx:\n",
    "        ax.scatter(embeddings[gray_idx, 0], embeddings[gray_idx, 1],c='xkcd:silver',alpha = 0.1, marker='.')\n",
    "\n",
    "    ax.scatter(embeddings[node_idx, 0], embeddings[node_idx, 1],c=colors,marker='.')\n",
    "\n",
    "    ax.axis('equal')\n",
    "    ax.axis('off')\n",
    "    plt.savefig(pjoin(folder_path,'UMAP-emebedding-{}.png'.format(int(t*1000))))"
   ]
  },
  {
   "cell_type": "markdown",
   "metadata": {},
   "source": [
    "# Graph Alignment Score"
   ]
  },
  {
   "cell_type": "code",
   "execution_count": null,
   "metadata": {},
   "outputs": [],
   "source": [
    "data_alignment_scores = []\n",
    "\n",
    "min_trial_length = min([len(x) for y in data_FNs for x in y])\n",
    "all_trials = [[dir,trial] for dir in range(0,len(data_FNs))\n",
    "                        for trial in range(0,len(data_FNs[dir]))]\n",
    "FN_pairs = [y for y in itertools.combinations(all_trials,2)]\n",
    "\n",
    "cdist = [circdistance(8,y[0][0],y[1][0]) for y in FN_pairs]\n",
    "\n",
    "for time in range(0,min_trial_length):\n",
    "    status(\"> getting alignment scores for time: {}s\".format(bin2time(time)))\n",
    "    data_alignment_scores.append([])\n",
    "    [data_alignment_scores[time].append([]) for x in np.unique(cdist)]\n",
    "\n",
    "    for c, pair in zip(cdist,FN_pairs):\n",
    "        score = align_score(data_FNs[pair[0][0]][pair[0][1]][time],data_FNs[pair[1][0]][pair[1][1]][time])\n",
    "        data_alignment_scores[time][c].append(score)"
   ]
  },
  {
   "cell_type": "code",
   "execution_count": null,
   "metadata": {},
   "outputs": [],
   "source": [
    "min_trial_length = 200"
   ]
  },
  {
   "cell_type": "code",
   "execution_count": null,
   "metadata": {},
   "outputs": [],
   "source": [
    "figure = plt.figure(figsize=(10,20))\n",
    "plt.suptitle('Alignment Scores: Data',fontsize=14,fontweight='bold')\n",
    "bins = np.arange(-0.05,0.5,0.01)\n",
    "dist_vals= [0,1,4]\n",
    "cmap = sns.color_palette(\"viridis\", 5)\n",
    "\n",
    "labels = ['same','neighboring','opposite']\n",
    "sig_test = []\n",
    "ticks = []\n",
    "time_plot = 1\n",
    "for t in range(0,min_trial_length,time_plot):\n",
    "    # plot alignment scores from Data\n",
    "\n",
    "    # data dist\n",
    "    for i, dist in enumerate(dist_vals):\n",
    "        y,x = np.histogram(data_alignment_scores[t][dist],bins=bins)\n",
    "        y = y/len(data_alignment_scores[t][dist])\n",
    "        y = (y*1000)-(10*t)\n",
    "        plt.plot(x[1:],y,color=cmap[dist],label=labels[i])\n",
    "\n",
    "    ticks.append(y[0])\n",
    "\n",
    "    sig = ''\n",
    "    for i in itertools.combinations(dist_vals,2):\n",
    "        ks_stat = stats.ks_2samp(data_alignment_scores[t][i[0]],data_alignment_scores[t][i[1]])\n",
    "\n",
    "        if i[0]==0 and i[1]==1:\n",
    "            if ks_stat[1]<0.001:\n",
    "                sig +='*'\n",
    "                print('{} vs {}: significant at {},pval = {},'.format(i[0],i[1],bin2time(t,lastBin=True),ks_stat[1]))\n",
    "            else:\n",
    "                sig +='  '\n",
    "\n",
    "        if i[0]==0 and i[1]==4 and ks_stat[1]<0.001:\n",
    "            sig += ' *'\n",
    "            print('{} vs {}: significant at {},pval = {},'.format(i[0],i[1],bin2time(t,lastBin=True),ks_stat[1]))\n",
    "\n",
    "    sig_test.append(sig)\n",
    "\n",
    "# plot a line at 0\n",
    "plt.plot([0,0],[150,-10*min_trial_length,],'k--')\n",
    "\n",
    "#formatting\n",
    "ax = plt.gca()\n",
    "ax.tick_params(axis=u'both', which=u'both',length=0)\n",
    "ax.set_ylabel('Time (s)')\n",
    "ax.set_xlabel('Alignment Score')\n",
    "ax.set_yticklabels([round(bin2time(x,lastBin=True),3) for x in np.arange(0,min_trial_length,time_plot)])\n",
    "ax.set_yticks(ticks)#[-10*t for t in np.arange(0,min_trial_length,time_plot)])\n",
    "ax.spines['top'].set_visible(False)\n",
    "ax.spines['right'].set_visible(False)\n",
    "ax.spines['bottom'].set_visible(False)\n",
    "ax.spines['left'].set_visible(False)\n",
    "\n",
    "ax2 = ax.twinx()\n",
    "ax2.set_ylim(ax.get_ylim())\n",
    "ax2.tick_params(axis=u'both', which=u'both',length=0)\n",
    "ax2.set_ylabel('significance (* if p<0.001')\n",
    "ax2.set_xlabel('Alignment Score')\n",
    "ax2.set_yticklabels(sig_test)\n",
    "ax2.set_yticks(ticks)#[-10*t for t in np.arange(0,min_trial_length,time_plot)])\n",
    "ax2.spines['top'].set_visible(False)\n",
    "ax2.spines['right'].set_visible(False)\n",
    "ax2.spines['bottom'].set_visible(False)\n",
    "ax2.spines['left'].set_visible(False)\n",
    "\n",
    "plt.tight_layout()\n",
    "plt.savefig(pjoin(folder_path,'align-score-data-by{}bins.png'.format(time_plot)))"
   ]
  },
  {
   "cell_type": "code",
   "execution_count": null,
   "metadata": {},
   "outputs": [],
   "source": [
    "plt.figure(figsize=(14,5))\n",
    "ax1 = plt.subplot(121)\n",
    "ax2 = plt.subplot(122)\n",
    "# plt.suptitle(title[i],fontsize=14,fontweight='bold')\n",
    "time_label = [round(bin2time(x,lastBin=True),3) for x in np.arange(0,min_trial_length,time_plot)]\n",
    "for dist in range(0,5):#dist_vals:\n",
    "    y = np.array([np.mean(data_alignment_scores[t][dist]) for t in range(0,min_trial_length,time_plot)])\n",
    "    ax1.plot(time_label, y, color=cmap[dist])\n",
    "    ax1.plot([0,0],[0,0.35],'k--',alpha=0.5)\n",
    "    ax1.plot([1,1],[0,0.35],'k--',alpha=0.5)\n",
    "    ax1.set_xlabel('Time (s)')\n",
    "    ax1.set_title('Mean Alignment Score')\n",
    "    ax1.set_title('Mean',fontsize=12,fontweight='bold')\n",
    "    ax1.spines['top'].set_visible(False)\n",
    "    ax1.spines['right'].set_visible(False)\n",
    "    ax1.spines['bottom'].set_visible(False)\n",
    "    ax1.spines['left'].set_visible(False)\n",
    "    \n",
    "    var = np.array([np.var(data_alignment_scores[t][dist]) for t in range(0,min_trial_length,time_plot)])\n",
    "    ax2.plot(time_label,var,color=cmap[dist])\n",
    "    ax2.plot([0,0],[0,0.0016],'k--',alpha=0.5)\n",
    "    ax2.plot([1,1],[0,0.0016],'k--',alpha=0.5)\n",
    "    ax2.set_xlabel('Time (s)')\n",
    "    ax2.set_ylabel('Alignment Score Variance')\n",
    "    ax2.set_title('Variance',fontsize=12,fontweight='bold')\n",
    "    ax2.spines['top'].set_visible(False)\n",
    "    ax2.spines['right'].set_visible(False)\n",
    "    ax2.spines['bottom'].set_visible(False)\n",
    "    ax2.spines['left'].set_visible(False)\n",
    "plt.savefig(pjoin(folder_path,'mean-and-variance-GAS.png'))"
   ]
  },
  {
   "cell_type": "markdown",
   "metadata": {},
   "source": [
    "# Reciprocity"
   ]
  },
  {
   "cell_type": "code",
   "execution_count": null,
   "metadata": {},
   "outputs": [],
   "source": [
    "p = 80\n",
    "\n",
    "cmap = sns.color_palette('husl',8)\n",
    "plt.figure(figsize=(10,5))\n",
    "for direction in range(0,len(data_FNs)):\n",
    "    \n",
    "    all_reciprocity = []\n",
    "    for trial in range(0,len(data_FNs[direction])):\n",
    "        reciprocity = []\n",
    "        for time in range(0,len(data_FNs[direction][trial])):\n",
    "            thresholded_FN = thresholdNetwork(data_FNs[direction][trial][time],p)\n",
    "            G = nx.from_numpy_array(thresholded_FN,create_using=nx.DiGraph())\n",
    "            reciprocity.append(nx.algorithms.overall_reciprocity(G))\n",
    "        \n",
    "        all_reciprocity.append(reciprocity)\n",
    "    min_trials = np.min([len(x) for x in all_reciprocity])\n",
    "    x = [bin2time(x,lastBin=True) for x in np.arange(0,len(data_FNs[direction][trial]))]\n",
    "    x = x[0:min_trials]\n",
    "    all_reciprocity = [x[:min_trials] for x in all_reciprocity]\n",
    "    mean = np.mean(all_reciprocity,axis=0)\n",
    "    std = np.std(all_reciprocity,axis=0)\n",
    "    plt.plot(x, mean,color=cmap[direction],alpha=0.2)\n",
    "    plt.fill_between(x,mean-std,mean+std,color=cmap[direction],alpha=0.2)\n",
    "    plt.plot([0,0],[0,1],'k--',alpha=0.5)     \n",
    "    plt.plot([1,1],[0,1],'k--',alpha=0.5) \n",
    "    plt.title('Reciprocity for Direction {}, at {} percentile'.format(direction,p))\n",
    "    plt.xlabel('time(s)')\n",
    "    plt.ylabel('Reciprocity')\n",
    "    ax = plt.gca()\n",
    "    ax.spines['top'].set_visible(False)\n",
    "    ax.spines['right'].set_visible(False)\n",
    "    ax.spines['bottom'].set_visible(False)\n",
    "    ax.spines['left'].set_visible(False)\n",
    "    plt.savefig(pjoin(folder_path,'reciprocity-vs-time_p{}.png').format(p))"
   ]
  },
  {
   "cell_type": "code",
   "execution_count": null,
   "metadata": {},
   "outputs": [],
   "source": [
    "num_trials = [len(x) for x in data_FNs]\n",
    "plt.bar(np.arange(0,8),num_trials)"
   ]
  },
  {
   "cell_type": "code",
   "execution_count": null,
   "metadata": {},
   "outputs": [],
   "source": [
    "np.arange(0,360,45)"
   ]
  },
  {
   "cell_type": "code",
   "execution_count": null,
   "metadata": {},
   "outputs": [],
   "source": [
    "data_FNs[0][0][0].shape"
   ]
  },
  {
   "cell_type": "code",
   "execution_count": null,
   "metadata": {},
   "outputs": [],
   "source": []
  }
 ],
 "metadata": {
  "interpreter": {
   "hash": "8ea19d57ab4618a5a39b6efa37d7af7a700e4f0eed90eb004557bb70fbacdfe2"
  },
  "kernelspec": {
   "display_name": "Python 3",
   "language": "python",
   "name": "python3"
  },
  "language_info": {
   "codemirror_mode": {
    "name": "ipython",
    "version": 3
   },
   "file_extension": ".py",
   "mimetype": "text/x-python",
   "name": "python",
   "nbconvert_exporter": "python",
   "pygments_lexer": "ipython3",
   "version": "3.8.5"
  }
 },
 "nbformat": 4,
 "nbformat_minor": 2
}
