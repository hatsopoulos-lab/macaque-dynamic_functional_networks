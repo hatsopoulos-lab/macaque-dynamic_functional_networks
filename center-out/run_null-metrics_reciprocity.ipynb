{
 "cells": [
  {
   "cell_type": "markdown",
   "metadata": {},
   "source": [
    "# SETUP"
   ]
  },
  {
   "cell_type": "code",
   "execution_count": null,
   "metadata": {},
   "outputs": [],
   "source": [
    "# run IPYNB that imports all the relevant packages and functions\n",
    "%run ../ms_packages_and_functions.ipynb"
   ]
  },
  {
   "cell_type": "code",
   "execution_count": null,
   "metadata": {},
   "outputs": [],
   "source": [
    "output_dir = pjoin(os.getcwd(), 'processed_data')\n",
    "data_dir  = pjoin(os.getcwd(), 'raw_data')"
   ]
  },
  {
   "cell_type": "code",
   "execution_count": null,
   "metadata": {},
   "outputs": [],
   "source": [
    "run_path = pjoin(output_dir,'RJ_null-metrics-reciprocity-004-cutoff')\n",
    "\n",
    "if not os.path.exists(run_path):\n",
    "    os.mkdir(run_path)\n",
    "    print(\"created directory: {}\".format(run_path))\n",
    "else:\n",
    "    print(\"All files will be saved in: {}\".format(run_path))"
   ]
  },
  {
   "cell_type": "code",
   "execution_count": null,
   "metadata": {},
   "outputs": [],
   "source": [
    "fig_dir = pjoin(run_path,'figures')\n",
    "\n",
    "if not os.path.exists(fig_dir):\n",
    "    os.mkdir(fig_dir)\n",
    "    print(\"created directory: {}\".format(fig_dir))\n",
    "else:\n",
    "    print(\"All files will be saved in: {}\".format(fig_dir))"
   ]
  },
  {
   "cell_type": "markdown",
   "metadata": {},
   "source": [
    "# Null paths"
   ]
  },
  {
   "cell_type": "code",
   "execution_count": null,
   "metadata": {},
   "outputs": [],
   "source": [
    "null_folders = [file for file in os.listdir(output_dir) if file.startswith('RJ_nulls-poisson-200ms-0')]\n",
    "null_filepaths = [pjoin(output_dir,folder,file) for folder in null_folders for file in os.listdir(pjoin(output_dir,folder)) if file.startswith('poisson_FNs_')]"
   ]
  },
  {
   "cell_type": "markdown",
   "metadata": {},
   "source": [
    "```\n",
    "null_reciprocity = []\n",
    "null_num = 0\n",
    "for i,FN_path in enumerate(null_filepaths):\n",
    "    start_time = time.time()\n",
    "    try:\n",
    "        null_FNs = loadPickle(FN_path)\n",
    "        \"\"\"\n",
    "        process goes here\n",
    "        \"\"\"\n",
    "\n",
    "        del null_FNs\n",
    "        end_time = time.time()\n",
    "        print(f'sim # {i}, elapsed (s) {end_time - start_time}')\n",
    "        null_num += 1\n",
    "\n",
    "    except:\n",
    "        end_time = time.time()\n",
    "        print(f'sim # {i}, broken! elapsed (s) {end_time - start_time}')\n",
    "```"
   ]
  },
  {
   "cell_type": "code",
   "execution_count": null,
   "metadata": {},
   "outputs": [],
   "source": [
    "print(f'{len(null_filepaths)} FOUND IN THE FOLLOWING FILEPATHS: \\n{[x[-46:] for x in null_filepaths]}')"
   ]
  },
  {
   "cell_type": "code",
   "execution_count": null,
   "metadata": {},
   "outputs": [],
   "source": [
    "trials = loadPickle('processed_data/rj031209_trials_by_cutoff.pkl')"
   ]
  },
  {
   "cell_type": "markdown",
   "metadata": {},
   "source": [
    "# Reciprocity"
   ]
  },
  {
   "cell_type": "code",
   "execution_count": null,
   "metadata": {},
   "outputs": [],
   "source": [
    "run_reciprocity = True"
   ]
  },
  {
   "cell_type": "code",
   "execution_count": null,
   "metadata": {},
   "outputs": [],
   "source": [
    "if run_reciprocity:\n",
    "    null_reciprocity = []\n",
    "    null_num = 0\n",
    "    num_processes = 8\n",
    "    th = 75\n",
    "    cutoff = 1.5\n",
    "    for i,FN_path in enumerate(null_filepaths):\n",
    "        # start_time = time.time()\n",
    "        try:\n",
    "            null_FNs = loadPickle(FN_path)\n",
    "            dir_reciprocity = []\n",
    "            for direction in range(8):\n",
    "                trial_reciprocity = []\n",
    "                for trial in range(len(null_FNs[0][direction][0])):\n",
    "                    if trial in trials[cutoff]['trials'][direction]:\n",
    "                        status(f\"SIM #{i}: Reciprocity for direction {direction}, trial {trial}\")\n",
    "\n",
    "                        time_reciprocity = [weighted_reciprocity(thresholdNetwork(FN,th)) for FN in  null_FNs[0][direction][0][trial][0]]\n",
    "\n",
    "                        # with Pool(num_processes) as p:\n",
    "                        #     time_reciprocity = p.map(weighted_reciprocity,temp)\n",
    "                        trial_reciprocity.append(time_reciprocity)\n",
    "\n",
    "                dir_reciprocity.append(trial_reciprocity)\n",
    "            null_reciprocity.append(dir_reciprocity)\n",
    "\n",
    "            del null_FNs\n",
    "            # end_time = time.time()\n",
    "            # print(f'sim # {i}, elapsed (s) {end_time - start_time}')\n",
    "            null_num += 1\n",
    "\n",
    "        except Exception as e: \n",
    "            print(e)\n",
    "            # end_time = time.time()\n",
    "            print(f'sim # {i}, broken!')# elapsed (s) {end_time - start_time}')\n",
    "\n",
    "    # savePickle(pjoin(run_path,f'null_reciprocity-{null_num}.pkl'),null_reciprocity)\n",
    "\n",
    "    # r_null = [weighted_reciprocity(FN) for FN in  null_FNs[0][direction][0][trial][0]]\n",
    "    savePickle(pjoin(run_path,f'null_reciprocity-{null_num}-p{th}-c{cutoff}.pkl'),null_reciprocity)"
   ]
  },
  {
   "cell_type": "markdown",
   "metadata": {},
   "source": [
    "### Average"
   ]
  },
  {
   "cell_type": "code",
   "execution_count": null,
   "metadata": {},
   "outputs": [],
   "source": [
    "# instruction\n",
    "if run_reciprocity:\n",
    "# average Reciprocity\n",
    "    ave_null_rec = []\n",
    "\n",
    "    for direction in range(8):\n",
    "        trial_rec = []\n",
    "        for trial in range(len(null_reciprocity[0][direction])):\n",
    "            time_rec = []\n",
    "            for time in range(len(null_reciprocity[0][direction][trial])):\n",
    "                sim_rec = []\n",
    "                for sim in range(len(null_reciprocity)):\n",
    "                    sim_rec.append(null_reciprocity[sim][direction][trial][time])\n",
    "                time_rec.append(np.mean(sim_rec))\n",
    "            trial_rec.append(time_rec)\n",
    "            # plt.plot(time_rec,'k',alpha=0.2)\n",
    "        ave_null_rec.append(trial_rec)\n",
    "\n",
    "    savePickle(pjoin(run_path,f'ave-null_reciprocity-{null_num}-p{th}-c{cutoff}.pkl'),ave_null_rec)"
   ]
  },
  {
   "cell_type": "code",
   "execution_count": null,
   "metadata": {},
   "outputs": [],
   "source": [
    "FNs = loadPickle('processed_data/rj1031209_CenterOut_FN_10msBin_with500buffer_MIonly.pkl')\n",
    "reciprocity_scores = []\n",
    "for direction in range(8):\n",
    "    trial_rec = []\n",
    "    for trial in range(len(FNs[direction])):\n",
    "        if trial in trials[cutoff]['trials'][direction]:\n",
    "\n",
    "            r = [weighted_reciprocity(thresholdNetwork(FN,th)) for FN in FNs[direction][trial]]\n",
    "            trial_rec.append(r)\n",
    "    reciprocity_scores.append(trial_rec)"
   ]
  },
  {
   "cell_type": "code",
   "execution_count": null,
   "metadata": {},
   "outputs": [],
   "source": [
    "if run_reciprocity:\n",
    "    norm_reciprocity = []\n",
    "\n",
    "    cmap = sns.husl_palette(8)\n",
    "    dirs = [1,3,5,7]\n",
    "    for direction in range(8):\n",
    "        plt.figure()\n",
    "        trial_rec = []\n",
    "\n",
    "        for trial in range(len(null_reciprocity[0][direction])):\n",
    "            time_rec = []\n",
    "            for t in range(len(null_reciprocity[0][direction][trial])):\n",
    "                nr = normalizeNetworkMetric(reciprocity_scores[direction][trial][t],ave_null_rec[direction][trial][t])\n",
    "                time_rec.append(nr)\n",
    "            trial_rec.append(time_rec)\n",
    "            plt.plot(time_rec,c=cmap[direction],alpha=0.2)\n",
    "            \n",
    "        min_trial_length = min([len(x) for x in trial_rec])\n",
    "        plt.plot(np.mean(np.array([x[:min_trial_length] for x in trial_rec]),axis=0),'k')\n",
    "        \n",
    "        norm_reciprocity.append(trial_rec)\n",
    "\n",
    "    savePickle(pjoin(run_path,f'norm_reciprocity-{null_num}-p{th}.pkl'),norm_reciprocity)\n"
   ]
  },
  {
   "cell_type": "code",
   "execution_count": null,
   "metadata": {},
   "outputs": [],
   "source": [
    "cmap = sns.color_palette('husl',8)\n",
    "min_len = time2bin(1.5,lastBin=True,buffer=0.5)\n",
    "x = [bin2time(x,lastBin=True) for x in np.arange(min_len)]\n",
    "dirs = [1,3,5,7]\n",
    "\n",
    "for i in range(8):\n",
    "\n",
    "    plt.figure(figsize=(15,3))\n",
    "    plt.subplot(131)\n",
    "    r = reciprocity_scores[i]\n",
    "    mean = np.mean(np.array([np.array(x[:min_len]) for x in r]),axis=0)\n",
    "    err = np.std(np.array([np.array(x[:min_len]) for x in r]),axis=0)\n",
    "    plt.plot([0,0],[min(mean),max(mean)], 'k--',linewidth=2)\n",
    "    plt.plot(x,mean, color = cmap[i],linewidth=2)\n",
    "    plt.title('Data')\n",
    "\n",
    "    plt.subplot(132)\n",
    "    r = ave_null_rec[i]\n",
    "    mean = np.mean(np.array([np.array(x[:min_len]) for x in r]),axis=0)\n",
    "    err = np.std(np.array([np.array(x[:min_len]) for x in r]),axis=0)\n",
    "    plt.plot([0,0],[min(mean),max(mean)], 'k--',linewidth=2)\n",
    "    plt.plot(x,mean,color = cmap[i],linewidth=2)\n",
    "    plt.title(f'Null (n={null_num})')\n",
    "\n",
    "    plt.subplot(133)\n",
    "    r = norm_reciprocity[i]\n",
    "    mean = np.mean(np.array([np.array(x[:min_len]) for x in r]),axis=0)\n",
    "    err = np.std(np.array([np.array(x[:min_len]) for x in r]),axis=0)\n",
    "    plt.plot([0,0],[min(mean),max(mean)], 'k--',linewidth=2)\n",
    "    plt.plot(x,mean,color = cmap[i],linewidth=2)\n",
    "    plt.title('Norm')\n",
    "    sns.despine()\n",
    "\n",
    "    plt.savefig(pjoin(fig_dir,f'reciprocity_{i}-p{th}.png'))\n"
   ]
  }
 ],
 "metadata": {
  "interpreter": {
   "hash": "2a98fdb5df325e6c89fa53031196f20ef23f8725fbf0bb59d954c6e8610a0bce"
  },
  "kernelspec": {
   "display_name": "Python 3.8.5 64-bit ('reach-analysis': conda)",
   "name": "python3"
  },
  "language_info": {
   "codemirror_mode": {
    "name": "ipython",
    "version": 3
   },
   "file_extension": ".py",
   "mimetype": "text/x-python",
   "name": "python",
   "nbconvert_exporter": "python",
   "pygments_lexer": "ipython3",
   "version": "3.8.5"
  },
  "orig_nbformat": 4
 },
 "nbformat": 4,
 "nbformat_minor": 2
}
